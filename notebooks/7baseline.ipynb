{
  "cells": [
    {
      "cell_type": "code",
      "execution_count": null,
      "metadata": {},
      "outputs": [],
      "source": [
        "!bash /home/azureuser/cloudfiles/code/blobfuse/blobfuse_raadsinformatie.sh\n"
      ]
    },
    {
      "cell_type": "code",
      "execution_count": null,
      "metadata": {},
      "outputs": [],
      "source": [
        "import sys\n",
        "sys.path.append(\"..\")\n",
        "\n",
        "# MAKE SURE TO SET-UP PATH -> use local to run with demo data; use azure to run with complete dataset (access required)\n",
        "# Select where to run notebook: \"azure\" or \"local\"\n",
        "my_run = \"azure\"\n",
        "\n",
        "if my_run == \"azure\":\n",
        "    import config_azure as cf\n",
        "    running_demo = False\n",
        "elif my_run == \"local\":\n",
        "    import config as cf\n",
        "    running_demo = True\n",
        "\n",
        "\n",
        "import os\n",
        "if my_run == \"azure\":\n",
        "    if not os.path.exists(cf.HUGGING_CACHE):\n",
        "        os.mkdir(cf.HUGGING_CACHE)\n",
        "    os.environ[\"TRANSFORMERS_CACHE\"] = cf.HUGGING_CACHE\n",
        "\n",
        "import pandas as pd\n"
      ]
    },
    {
      "cell_type": "markdown",
      "metadata": {},
      "source": [
        "## Notebook overview\n",
        "This notebook creates predictions for the baseline models. In total, five models are tried out.\n",
        "- Training function. Given a baseline model, will return scores.\n",
        "- Load Data. Load all the documents, and set parameters.\n",
        "- save predictions\n",
        "\n",
        "\n",
        "*Previous notebook: GetPredictions*\n",
        "\n",
        "*Next notebook: plot*"
      ]
    },
    {
      "cell_type": "markdown",
      "metadata": {},
      "source": [
        "### Load file with training funcation\n"
      ]
    },
    {
      "cell_type": "code",
      "execution_count": null,
      "metadata": {},
      "outputs": [],
      "source": [
        "import sys\n",
        "sys.path.append('../src/') \n",
        "import baseline as bf"
      ]
    },
    {
      "cell_type": "markdown",
      "metadata": {},
      "source": [
        "### Load data"
      ]
    },
    {
      "cell_type": "code",
      "execution_count": 7,
      "metadata": {},
      "outputs": [],
      "source": [
        "import pandas as pd\n",
        "\n",
        "df = pd.read_pickle(f\"{cf.output_path}/txtfiles.pkl\")"
      ]
    },
    {
      "cell_type": "code",
      "execution_count": null,
      "metadata": {},
      "outputs": [],
      "source": [
        "from collections import Counter\n",
        "sys.path.append('../src/') \n",
        "import baseline as bf\n",
        "from truncation import add_truncation_column\n",
        "\n",
        "#set  variables, same for each model\n",
        "SPLIT_COLUMN = 'balanced_split' #column that has the data split saved. must be either 2split, 4split or balanced_split. 2split = data split into train and test. 4split = data split into train, test, dev and val. \n",
        "print('Distribution of sets: ', Counter(df[SPLIT_COLUMN]))\n",
        "TRAIN_SET = 'train' # must be dev or train\n",
        "TEST_SET = 'test' # must be val or test\n",
        "# this split column, train_set and test_set might be a bit confusing. The split_column need to have values about the split, so a row either belongs, in my case, to 'train', 'test', 'dev' or 'val'.\n",
        "# Then the train_set indates which rows will be selected based on the filtering of the split column. \n",
        "# Thus if TRAIN_SET = 'train', then all rows where split_col is 'train', will be selected as the training set.\n",
        "# The same goes for TEST_SET    \n",
        "\n",
        "\n",
        "TEXT_COLUMN = 'text' # column where the text is\n",
        "LABEL_COLUMN = 'label' # column with truth label\n",
        "DATAFRAME = df.copy() # df where each row is a doc. \n",
        "FOLDER = f\"{cf.output_path}/predictionsFinal/baselines\" # folder where each individual prediction is saved\n",
        "OVERVIEW_PATH = f\"{cf.output_path}/predictionsFinal/baselines/overview.pkl\" # file where score and extra data about run is saved\n",
        "\n",
        "# needed for truncation experiment on baselines\n",
        "TRUNC_COLUMN = 'trunc_txt' # column with truncated text\n",
        "TOKENS_COL = 'LlamaTokens' # column with text split into tokens using model tokenizer, in this case Llama, could also be MistralTokens\n",
        "THRESHOLD_COMBINATIONS =[(100,0), (200,0), (100,100)] # combinations of front and back truncation thresholds. First value in tuple is first N tokens, second value is last N tokens."
      ]
    },
    {
      "cell_type": "code",
      "execution_count": null,
      "metadata": {},
      "outputs": [],
      "source": [
        "# Function to run the baseline on each truncation threshold\n",
        "\n",
        "def run_truncation_on_baselines(baseline_function, model_name, predictions_path):\n",
        "    for thresholds in THRESHOLD_COMBINATIONS:\n",
        "\n",
        "        # select thresholds\n",
        "        front_threshold = thresholds[0]\n",
        "        back_threshold = thresholds[1]\n",
        "\n",
        "        # set run_id\n",
        "        run_id = f\"{model_name}_first{front_threshold}_last{back_threshold}\"\n",
        "\n",
        "        # get df with truncated text column\n",
        "        trunc = add_truncation_column(DATAFRAME, TEXT_COLUMN, TOKENS_COL, front_threshold,back_threshold)\n",
        "\n",
        "        # train and get predictions\n",
        "        bf.run_baseline(baseline_function, model_name, trunc, SPLIT_COLUMN, TRAIN_SET, TEST_SET, TRUNC_COLUMN, LABEL_COLUMN, predictions_path, OVERVIEW_PATH, run_id)"
      ]
    },
    {
      "cell_type": "markdown",
      "metadata": {},
      "source": [
        "### Baselines"
      ]
    },
    {
      "cell_type": "markdown",
      "metadata": {},
      "source": [
        "##### Baseline 1: linear SVM+tf-idf"
      ]
    },
    {
      "cell_type": "code",
      "execution_count": null,
      "metadata": {},
      "outputs": [],
      "source": [
        "from sklearn.svm import LinearSVC\n",
        "model_name = 'LinearSVC'\n",
        "baseline_function = LinearSVC()\n",
        "run_id = f\"{model_name}_fulltext\"\n",
        "predictions_path = f\"{FOLDER}/{model_name}predictions.pkl\"\n",
        "\n",
        "print(OVERVIEW_PATH)\n",
        "print(predictions_path)\n",
        "linear_svm = bf.run_baseline(baseline_function, model_name , DATAFRAME, SPLIT_COLUMN, TRAIN_SET, TEST_SET,TEXT_COLUMN, LABEL_COLUMN, predictions_path, OVERVIEW_PATH, run_id)\n",
        "\n",
        "run_truncation_on_baselines(baseline_function, model_name, predictions_path)"
      ]
    },
    {
      "cell_type": "markdown",
      "metadata": {},
      "source": [
        "##### Baseline 2: Naive Bayes+tf-idf"
      ]
    },
    {
      "cell_type": "code",
      "execution_count": null,
      "metadata": {},
      "outputs": [],
      "source": [
        "from sklearn.naive_bayes import MultinomialNB\n",
        "model_name = 'MultinomialNB'\n",
        "baseline_function = MultinomialNB()\n",
        "run_id = f\"{model_name}_fulltext\"\n",
        "predictions_path = f\"{FOLDER}/{model_name}predictions.pkl\"\n",
        "print(OVERVIEW_PATH)\n",
        "print(predictions_path)\n",
        "\n",
        "naive_bayes = bf.run_baseline(baseline_function, model_name , DATAFRAME, SPLIT_COLUMN, TRAIN_SET, TEST_SET,TEXT_COLUMN, LABEL_COLUMN, predictions_path, OVERVIEW_PATH, run_id)\n",
        "\n",
        "run_truncation_on_baselines(baseline_function, model_name, predictions_path)"
      ]
    },
    {
      "cell_type": "markdown",
      "metadata": {},
      "source": [
        "##### Baseline 3: Logistic Regression + tf-idf"
      ]
    },
    {
      "cell_type": "code",
      "execution_count": null,
      "metadata": {},
      "outputs": [],
      "source": [
        "from sklearn.linear_model import LogisticRegression\n",
        "model_name = 'LogisticRegression'\n",
        "baseline_function = LogisticRegression()\n",
        "run_id = f\"{model_name}_fulltext\"\n",
        "predictions_path = f\"{FOLDER}/{model_name}predictions.pkl\"\n",
        "\n",
        "print(OVERVIEW_PATH)\n",
        "print(predictions_path)\n",
        "\n",
        "log_reg = bf.run_baseline(baseline_function, model_name , DATAFRAME, SPLIT_COLUMN, TRAIN_SET, TEST_SET,TEXT_COLUMN, LABEL_COLUMN, predictions_path, OVERVIEW_PATH, run_id)\n",
        "\n",
        "run_truncation_on_baselines(baseline_function, model_name, predictions_path)"
      ]
    },
    {
      "cell_type": "markdown",
      "metadata": {},
      "source": [
        "##### Baseline 4: k Nearest Neigbors + tf-idf"
      ]
    },
    {
      "cell_type": "code",
      "execution_count": null,
      "metadata": {},
      "outputs": [],
      "source": [
        "from sklearn.neighbors import KNeighborsClassifier\n",
        "model_name = 'KNeighborsClassifier'\n",
        "baseline_function = KNeighborsClassifier()\n",
        "run_id = f\"{model_name}_fulltext\"\n",
        "predictions_path = f\"{FOLDER}/{model_name}predictions.pkl\"\n",
        "\n",
        "print(OVERVIEW_PATH)\n",
        "print(predictions_path)\n",
        "knn = bf.run_baseline(baseline_function, model_name , DATAFRAME, SPLIT_COLUMN, TRAIN_SET, TEST_SET,TEXT_COLUMN, LABEL_COLUMN, predictions_path, OVERVIEW_PATH, run_id)\n",
        "\n",
        "run_truncation_on_baselines(baseline_function, model_name, predictions_path)"
      ]
    },
    {
      "cell_type": "markdown",
      "metadata": {},
      "source": [
        "##### Baseline 5: RandomForest + tf-idf"
      ]
    },
    {
      "cell_type": "code",
      "execution_count": null,
      "metadata": {},
      "outputs": [],
      "source": [
        "from sklearn.ensemble import RandomForestClassifier\n",
        "model_name = 'RandomForestClassifier'\n",
        "baseline_function = RandomForestClassifier()\n",
        "run_id = f\"{model_name}_fulltext\"\n",
        "predictions_path = f\"{FOLDER}/{model_name}predictions.pkl\"\n",
        "\n",
        "print(OVERVIEW_PATH)\n",
        "print(predictions_path)\n",
        "\n",
        "random_forest = bf.run_baseline(baseline_function, model_name , DATAFRAME, SPLIT_COLUMN, TRAIN_SET, TEST_SET,TEXT_COLUMN, LABEL_COLUMN, predictions_path, OVERVIEW_PATH, run_id)\n",
        "\n",
        "run_truncation_on_baselines(baseline_function, model_name, predictions_path)"
      ]
    },
    {
      "cell_type": "markdown",
      "metadata": {},
      "source": [
        "### Overview of all runs"
      ]
    },
    {
      "cell_type": "code",
      "execution_count": null,
      "metadata": {},
      "outputs": [],
      "source": [
        "overview = pd.read_pickle(OVERVIEW_PATH)\n",
        "display(overview)"
      ]
    }
  ],
  "metadata": {
    "kernel_info": {
      "name": "python38-azureml"
    },
    "kernelspec": {
      "display_name": "Python 3 (ipykernel)",
      "language": "python",
      "name": "python3"
    },
    "language_info": {
      "codemirror_mode": {
        "name": "ipython",
        "version": 3
      },
      "file_extension": ".py",
      "mimetype": "text/x-python",
      "name": "python",
      "nbconvert_exporter": "python",
      "pygments_lexer": "ipython3",
      "version": "3.9.19"
    },
    "microsoft": {
      "ms_spell_check": {
        "ms_spell_check_language": "en"
      }
    },
    "nteract": {
      "version": "nteract-front-end@1.0.0"
    }
  },
  "nbformat": 4,
  "nbformat_minor": 2
}
