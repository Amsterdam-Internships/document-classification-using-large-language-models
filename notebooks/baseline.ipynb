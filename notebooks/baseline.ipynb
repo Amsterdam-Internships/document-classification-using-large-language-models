{
  "cells": [
    {
      "cell_type": "code",
      "execution_count": 16,
      "metadata": {},
      "outputs": [],
      "source": [
        "!bash /home/azureuser/cloudfiles/code/blobfuse/blobfuse_raadsinformatie.sh\n"
      ]
    },
    {
      "cell_type": "code",
      "execution_count": 17,
      "metadata": {},
      "outputs": [],
      "source": [
        "import sys\n",
        "sys.path.append(\"..\")\n",
        "\n",
        "# Select where to run notebook: \"azure\" or \"local\"\n",
        "my_run = \"azure\"\n",
        "\n",
        "import my_secrets as sc\n",
        "import settings as st\n",
        "\n",
        "if my_run == \"azure\":\n",
        "    import config_azure as cf\n",
        "elif my_run == \"local\":\n",
        "    import config as cf\n",
        "\n",
        "\n",
        "import os\n",
        "if my_run == \"azure\":\n",
        "    if not os.path.exists(cf.HUGGING_CACHE):\n",
        "        os.mkdir(cf.HUGGING_CACHE)\n",
        "    os.environ[\"TRANSFORMERS_CACHE\"] = cf.HUGGING_CACHE\n",
        "\n",
        "\n",
        "# setup environment GEITje-7B Finetuning\n",
        "# - pip install torch\n",
        "# - pip install datasets\n",
        "# - pip install transformers\n",
        "# - pip install trl\n",
        "# - pip install accelerate (restart after)\n",
        "# - switch device_map='auto' to avaoid memory error\n",
        "\n",
        "# - pip install sentencepiece\n",
        "# - pip install jupyter\n",
        "# - pip install protobuf \n",
        "\n"
      ]
    },
    {
      "cell_type": "markdown",
      "metadata": {},
      "source": [
        "## Notebook overview\n",
        "This notebook creates predictions for the baseline models. In total, five model are tried out.\n",
        "- Functions to split the data. One function save the split as a column in txtfiles, the other loads the split.\n",
        "- Training function. Given a baseline model, will return scores.\n",
        "- Load Data. Load all the documents, and set parameters.\n",
        "- TODO: save predictions\n",
        "\n",
        "\n",
        "Kernel: Pytorch and Tensorflow"
      ]
    },
    {
      "cell_type": "markdown",
      "metadata": {},
      "source": [
        "### Data split functions"
      ]
    },
    {
      "cell_type": "code",
      "execution_count": 18,
      "metadata": {},
      "outputs": [],
      "source": [
        "from sklearn.model_selection import train_test_split\n",
        "import pandas as pd\n",
        "\n",
        "\"\"\"Function takes a dataframe and splits the data into train, test, val and dev set and save it.\n",
        "Only need to run it once, load_data_spli is used to get the right subsets.\n",
        "\n",
        "\"\"\"\n",
        "def save_split(df, save_to_path):\n",
        "    train_df, temp_df = train_test_split(df, test_size=0.25, random_state=42)\n",
        "\n",
        "    # Splitting temp into test (20%) and val_dev (5%)\n",
        "    test_df, val_dev_df = train_test_split(temp_df, test_size=0.2, random_state=42)\n",
        "\n",
        "    # Splitting val_dev into validation (1%) and development (4%)\n",
        "    dev_df,val_df = train_test_split(val_dev_df, test_size=0.2, random_state=42)\n",
        "\n",
        "    # set split into 4 ways: train, test, val and dev\n",
        "    train_df['4split'] = 'train'\n",
        "    test_df['4split'] = 'test'\n",
        "    val_df['4split'] = 'val'\n",
        "    dev_df['4split'] = 'dev'\n",
        "\n",
        "    # set split into 2 ways: test and training\n",
        "    train_df['2split'] = 'train'\n",
        "    test_df['2split'] = 'test'\n",
        "    val_df['2split'] = 'test'\n",
        "    dev_df['2split'] = 'train'\n",
        "\n",
        "    # Combining the DataFrames\n",
        "    final_df = pd.concat([train_df, test_df, val_df, dev_df])\n",
        "    final_df.to_pickle(save_to_path)\n",
        "\n",
        "# txtfiles = pd.read_pickle(f\"{cf.output_path}/txtfiles_tokenizer.pkl\")\n",
        "# save_split(txtfiles, f\"{cf.output_path}/txtfiles.pkl\")\n"
      ]
    },
    {
      "cell_type": "code",
      "execution_count": 19,
      "metadata": {},
      "outputs": [],
      "source": [
        "\"\"\"Function returns X and y set for either the train, val, test or dev set.\"\"\"\n",
        "def load_data_split(df, split_col,subset, label_col):\n",
        "    subdf = df.loc[df[split_col]==subset]\n",
        "    X = subdf.drop(columns=[label_col])\n",
        "    y = subdf[label_col]\n",
        "    return X, y"
      ]
    },
    {
      "cell_type": "markdown",
      "metadata": {},
      "source": [
        "### Training function\n"
      ]
    },
    {
      "cell_type": "code",
      "execution_count": 22,
      "metadata": {},
      "outputs": [],
      "source": [
        "# from sklearn.metrics import accuracy_score\n",
        "from sklearn.feature_extraction.text import TfidfVectorizer\n",
        "from sklearn.metrics import classification_report, accuracy_score, precision_score, recall_score, f1_score\n",
        "  \n",
        "import sys\n",
        "sys.path.append('../scripts/') \n",
        "import prediction_helperfunctions as ph\n",
        "\n",
        "import time\n",
        "\n",
        "\n",
        "def run_baseline(baseline_function,model_name, dataframe,split_col, subset_train, subset_test, text_col, label_col, prediction_path, overview_path):\n",
        "    start_time = time.time()\n",
        "\n",
        "    ph.check_data_split_input(subset_train, subset_test)\n",
        "    X_train, y_train = load_data_split(dataframe,split_col,subset_train,label_col) \n",
        "    X_test, y_test = load_data_split(dataframe,split_col,subset_test,label_col) \n",
        "\n",
        "\n",
        "    vectorizer = TfidfVectorizer()\n",
        "    X_train_tfidf_bin = vectorizer.fit_transform(X_train[text_col])\n",
        "    X_test_tfidf_bin = vectorizer.transform(X_test[text_col])\n",
        "\n",
        "    model = baseline_function\n",
        "\n",
        "    # Train the classifier on the training data\n",
        "    model.fit(X_train_tfidf_bin, y_train)\n",
        "\n",
        "    y_pred = model.predict(X_test_tfidf_bin)\n",
        "\n",
        "    # Calculate the accuracy of the classifier\n",
        "    report = classification_report(y_test, y_pred)\n",
        "    print(report)\n",
        "\n",
        "    date = ph.get_datetime()\n",
        "    predictions = X_test.copy()\n",
        "    predictions[label_col] = y_test\n",
        "    predictions['prediction'] = y_pred\n",
        "    # predictions['train_set'] = subset_train\n",
        "    # predictions['test_set'] = subset_test\n",
        "    predictions['model'] = model_name\n",
        "    predictions['date'] = date\n",
        "\n",
        "    # remove unneccary columns\n",
        "    predictions = predictions.drop(columns=['set', 'text', 'tokens', 'token_count', 'clean_tokens', 'clean_tokens_count', 'pdf_path', 'clean_text', 'token_count_geitje', 'token_count_mistral', 'token_count_llama2_7b_hf', '4split', '2split'])\n",
        "\n",
        "    # save predictions\n",
        "    ph.combine_and_save_df(predictions, prediction_path)\n",
        "\n",
        "    # save run -> scores + runtime\n",
        "    overview = pd.DataFrame(\n",
        "        [{\n",
        "            'model':model_name,\n",
        "            'date': date,\n",
        "            'train_set': subset_train,\n",
        "            'test_set': subset_test,\n",
        "            'train_set_support':len(X_train),\n",
        "            'test_set_support':len(X_test),\n",
        "            'split_col':split_col,\n",
        "            'text_col':text_col,\n",
        "            'runtime':time.time()-start_time,\n",
        "            'accuracy': accuracy_score(y_test, y_pred),\n",
        "            'macro_avg_precision': precision_score(y_test, y_pred, average='macro'),\n",
        "            'macro_avg_recall': recall_score(y_test, y_pred, average='macro'),\n",
        "            'macro_avg_f1': f1_score(y_test, y_pred, average='macro'),\n",
        "            'classification_report':report\n",
        "        }   ]\n",
        "    )\n",
        "    ph.combine_and_save_df(overview, overview_path)\n",
        "\n",
        "    return predictions"
      ]
    },
    {
      "cell_type": "markdown",
      "metadata": {},
      "source": [
        "### Load data"
      ]
    },
    {
      "cell_type": "code",
      "execution_count": 21,
      "metadata": {},
      "outputs": [
        {
          "name": "stdout",
          "output_type": "stream",
          "text": [
            "Counter({'train': 21096, 'test': 5608})\n",
            "Counter({'train': 20028, 'test': 5340, 'dev': 1068, 'val': 268})\n"
          ]
        }
      ],
      "source": [
        "from collections import Counter\n",
        "\n",
        "df = pd.read_pickle(f\"{cf.output_path}/txtfiles.pkl\")\n",
        "print(Counter(df['2split']))\n",
        "print(Counter(df['4split']))\n",
        "\n",
        "#set  variables, same for each model\n",
        "TRAIN_SET = 'train' # must be dev or train\n",
        "TEST_SET = 'test' # must be val or test\n",
        "SPLIT_COLUMN = '4split' #must be either 2split or 4split. 2split = data split into train and test. 4split = data split into train, test, dev and val. \n",
        "TEXT_COLUMN = 'text'\n",
        "LABEL_COLUMN = 'label'\n",
        "DATAFRAME = df.copy()\n",
        "PATH = f\"{cf.output_path}/predictions/baselinePredictions.pkl\"\n",
        "OVERVIEW_PATH = f\"{cf.output_path}/overview/baselineOverview.pkl\""
      ]
    },
    {
      "cell_type": "markdown",
      "metadata": {},
      "source": [
        "### Baselines"
      ]
    },
    {
      "cell_type": "markdown",
      "metadata": {},
      "source": [
        "##### Baseline 1: linear SVM+tf-idf"
      ]
    },
    {
      "cell_type": "code",
      "execution_count": 25,
      "metadata": {},
      "outputs": [
        {
          "name": "stdout",
          "output_type": "stream",
          "text": [
            "                      precision    recall  f1-score   support\n",
            "\n",
            "         Actualiteit       0.93      0.82      0.87       205\n",
            "              Agenda       0.86      0.97      0.91       696\n",
            "             Besluit       0.97      0.96      0.97       162\n",
            "               Brief       0.90      0.92      0.91       408\n",
            "          Factsheets       0.53      0.41      0.47        41\n",
            "               Motie       0.97      0.97      0.97      1713\n",
            "   Onderzoeksrapport       0.85      0.94      0.89       258\n",
            "          Raadsadres       0.94      0.99      0.96       408\n",
            "        Raadsnotulen       0.98      1.00      0.99        58\n",
            "Schriftelijke Vragen       0.99      0.96      0.97       557\n",
            "       Termijnagenda       0.84      0.46      0.59       189\n",
            "          Voordracht       1.00      1.00      1.00       645\n",
            "\n",
            "            accuracy                           0.94      5340\n",
            "           macro avg       0.90      0.87      0.88      5340\n",
            "        weighted avg       0.94      0.94      0.94      5340\n",
            "\n"
          ]
        }
      ],
      "source": [
        "from sklearn.svm import LinearSVC\n",
        "linear_svm = run_baseline(LinearSVC(), 'LinearSVC' , DATAFRAME, SPLIT_COLUMN, TRAIN_SET, TEST_SET,TEXT_COLUMN, LABEL_COLUMN, PATH, OVERVIEW_PATH)"
      ]
    },
    {
      "cell_type": "markdown",
      "metadata": {},
      "source": [
        "##### Baseline 2: Naive Bayes+tf-idf"
      ]
    },
    {
      "cell_type": "code",
      "execution_count": 28,
      "metadata": {},
      "outputs": [
        {
          "name": "stderr",
          "output_type": "stream",
          "text": [
            "/anaconda/envs/azureml_py38_PT_TF/lib/python3.8/site-packages/sklearn/metrics/_classification.py:1344: UndefinedMetricWarning: Precision and F-score are ill-defined and being set to 0.0 in labels with no predicted samples. Use `zero_division` parameter to control this behavior.\n",
            "  _warn_prf(average, modifier, msg_start, len(result))\n",
            "/anaconda/envs/azureml_py38_PT_TF/lib/python3.8/site-packages/sklearn/metrics/_classification.py:1344: UndefinedMetricWarning: Precision and F-score are ill-defined and being set to 0.0 in labels with no predicted samples. Use `zero_division` parameter to control this behavior.\n",
            "  _warn_prf(average, modifier, msg_start, len(result))\n",
            "/anaconda/envs/azureml_py38_PT_TF/lib/python3.8/site-packages/sklearn/metrics/_classification.py:1344: UndefinedMetricWarning: Precision and F-score are ill-defined and being set to 0.0 in labels with no predicted samples. Use `zero_division` parameter to control this behavior.\n",
            "  _warn_prf(average, modifier, msg_start, len(result))\n"
          ]
        },
        {
          "name": "stdout",
          "output_type": "stream",
          "text": [
            "                      precision    recall  f1-score   support\n",
            "\n",
            "         Actualiteit       0.00      0.00      0.00       205\n",
            "              Agenda       0.79      0.92      0.85       696\n",
            "             Besluit       1.00      0.02      0.05       162\n",
            "               Brief       0.00      0.00      0.00       408\n",
            "          Factsheets       0.00      0.00      0.00        41\n",
            "               Motie       0.44      1.00      0.61      1713\n",
            "   Onderzoeksrapport       0.37      0.05      0.09       258\n",
            "          Raadsadres       1.00      0.00      0.01       408\n",
            "        Raadsnotulen       0.00      0.00      0.00        58\n",
            "Schriftelijke Vragen       1.00      0.03      0.06       557\n",
            "       Termijnagenda       1.00      0.08      0.15       189\n",
            "          Voordracht       0.98      0.87      0.92       645\n",
            "\n",
            "            accuracy                           0.56      5340\n",
            "           macro avg       0.55      0.25      0.23      5340\n",
            "        weighted avg       0.63      0.56      0.44      5340\n",
            "\n"
          ]
        },
        {
          "name": "stderr",
          "output_type": "stream",
          "text": [
            "/anaconda/envs/azureml_py38_PT_TF/lib/python3.8/site-packages/sklearn/metrics/_classification.py:1344: UndefinedMetricWarning: Precision is ill-defined and being set to 0.0 in labels with no predicted samples. Use `zero_division` parameter to control this behavior.\n",
            "  _warn_prf(average, modifier, msg_start, len(result))\n"
          ]
        }
      ],
      "source": [
        "from sklearn.naive_bayes import MultinomialNB\n",
        "naive_bayes = run_baseline(MultinomialNB(), 'MultinomialNB' , DATAFRAME, SPLIT_COLUMN, TRAIN_SET, TEST_SET,TEXT_COLUMN, LABEL_COLUMN, PATH, OVERVIEW_PATH)"
      ]
    },
    {
      "cell_type": "markdown",
      "metadata": {},
      "source": [
        "precision, recall and f1-score equal to zero occurs if there are not True Positives. Meaning for those classes not one document is correctly predicted. "
      ]
    },
    {
      "cell_type": "markdown",
      "metadata": {},
      "source": [
        "##### Baseline 3: Logistic Regression + tf-idf"
      ]
    },
    {
      "cell_type": "code",
      "execution_count": 29,
      "metadata": {},
      "outputs": [],
      "source": [
        "from sklearn.linear_model import LogisticRegression\n",
        "log_reg = run_baseline(LogisticRegression(), 'LogisticRegression' , DATAFRAME, SPLIT_COLUMN, TRAIN_SET, TEST_SET,TEXT_COLUMN, LABEL_COLUMN, PATH, OVERVIEW_PATH)"
      ]
    },
    {
      "cell_type": "markdown",
      "metadata": {},
      "source": [
        "##### Baseline 4: k Nearest Neigbors + tf-idf"
      ]
    },
    {
      "cell_type": "code",
      "execution_count": null,
      "metadata": {},
      "outputs": [],
      "source": [
        "from sklearn.neighbors import KNeighborsClassifier\n",
        "knn = run_baseline(KNeighborsClassifier(), 'KNeighborsClassifier' , DATAFRAME, SPLIT_COLUMN, TRAIN_SET, TEST_SET,TEXT_COLUMN, LABEL_COLUMN, PATH, OVERVIEW_PATH)"
      ]
    },
    {
      "cell_type": "markdown",
      "metadata": {},
      "source": [
        "##### Baseline 5: RandomForest + tf-idf"
      ]
    },
    {
      "cell_type": "code",
      "execution_count": null,
      "metadata": {},
      "outputs": [
        {
          "name": "stdout",
          "output_type": "stream",
          "text": [
            "                      precision    recall  f1-score   support\n",
            "\n",
            "         Actualiteit       0.93      0.67      0.78       183\n",
            "              Agenda       0.83      0.89      0.86       728\n",
            "             Besluit       0.98      0.92      0.95       145\n",
            "               Brief       0.91      0.91      0.91       396\n",
            "          Factsheets       0.75      0.32      0.45        47\n",
            "               Motie       0.95      0.97      0.96      1644\n",
            "   Onderzoeksrapport       0.84      0.92      0.88       263\n",
            "          Raadsadres       0.85      0.95      0.89       385\n",
            "        Raadsnotulen       0.98      1.00      0.99        55\n",
            "Schriftelijke Vragen       0.98      0.95      0.96       591\n",
            "       Termijnagenda       0.52      0.37      0.43       207\n",
            "          Voordracht       0.99      1.00      0.99       696\n",
            "\n",
            "            accuracy                           0.91      5340\n",
            "           macro avg       0.88      0.82      0.84      5340\n",
            "        weighted avg       0.91      0.91      0.91      5340\n",
            "\n"
          ]
        }
      ],
      "source": [
        "from sklearn.ensemble import RandomForestClassifier\n",
        "random_forest = run_baseline(RandomForestClassifier(), DATAFRAME, SPLIT_COLUMN, TRAIN_SET, TEST_SET,TEXT_COLUMN, LABEL_COLUMN)\n",
        "random_forest = run_baseline(RandomForestClassifier(), 'RandomForestClassifier' , DATAFRAME, SPLIT_COLUMN, TRAIN_SET, TEST_SET,TEXT_COLUMN, LABEL_COLUMN, PATH, OVERVIEW_PATH)"
      ]
    },
    {
      "cell_type": "markdown",
      "metadata": {},
      "source": [
        "### Overview of all runs"
      ]
    },
    {
      "cell_type": "code",
      "execution_count": null,
      "metadata": {},
      "outputs": [],
      "source": [
        "overview = pd.read_pickle(OVERVIEW_PATH)\n",
        "display(overview)"
      ]
    }
  ],
  "metadata": {
    "kernel_info": {
      "name": "python38-azureml"
    },
    "kernelspec": {
      "display_name": "Python 3.8 - Pytorch and Tensorflow",
      "language": "python",
      "name": "python38-azureml-pt-tf"
    },
    "language_info": {
      "codemirror_mode": {
        "name": "ipython",
        "version": 3
      },
      "file_extension": ".py",
      "mimetype": "text/x-python",
      "name": "python",
      "nbconvert_exporter": "python",
      "pygments_lexer": "ipython3",
      "version": "3.8.5"
    },
    "microsoft": {
      "ms_spell_check": {
        "ms_spell_check_language": "en"
      }
    },
    "nteract": {
      "version": "nteract-front-end@1.0.0"
    }
  },
  "nbformat": 4,
  "nbformat_minor": 2
}
