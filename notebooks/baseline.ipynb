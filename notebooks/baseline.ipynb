{
 "cells": [
  {
   "cell_type": "code",
   "execution_count": 9,
   "metadata": {},
   "outputs": [],
   "source": [
    "!bash /home/azureuser/cloudfiles/code/blobfuse/blobfuse_raadsinformatie.sh\n"
   ]
  },
  {
   "cell_type": "code",
   "execution_count": 10,
   "metadata": {},
   "outputs": [],
   "source": [
    "import sys\n",
    "sys.path.append(\"..\")\n",
    "\n",
    "# Select where to run notebook: \"azure\" or \"local\"\n",
    "my_run = \"azure\"\n",
    "\n",
    "import my_secrets as sc\n",
    "import settings as st\n",
    "\n",
    "if my_run == \"azure\":\n",
    "    import config_azure as cf\n",
    "elif my_run == \"local\":\n",
    "    import config as cf\n",
    "\n",
    "\n",
    "import os\n",
    "if my_run == \"azure\":\n",
    "    if not os.path.exists(cf.HUGGING_CACHE):\n",
    "        os.mkdir(cf.HUGGING_CACHE)\n",
    "    os.environ[\"TRANSFORMERS_CACHE\"] = cf.HUGGING_CACHE\n",
    "\n",
    "\n",
    "# setup environment GEITje-7B Finetuning\n",
    "# - pip install torch\n",
    "# - pip install datasets\n",
    "# - pip install transformers\n",
    "# - pip install trl\n",
    "# - pip install accelerate (restart after)\n",
    "# - switch device_map='auto' to avaoid memory error\n",
    "\n",
    "# - pip install sentencepiece\n",
    "# - pip install jupyter\n",
    "# - pip install protobuf \n",
    "\n"
   ]
  },
  {
   "cell_type": "markdown",
   "metadata": {},
   "source": [
    "##### Load data \n",
    "Load validation set and split into val and dev set"
   ]
  },
  {
   "cell_type": "code",
   "execution_count": 30,
   "metadata": {},
   "outputs": [],
   "source": [
    "import pandas as pd\n",
    "from sklearn.model_selection import train_test_split\n",
    "\n",
    "df = pd.read_pickle(f\"{cf.output_path}/txtfiles.pkl\")\n",
    "df = df.loc[df['set']=='val']\n",
    "df = df.sample(frac=1, random_state=42).reset_index(drop=True)\n",
    "df.loc[df['label']=='Termijnagenda','label'] = 'Agenda'\n"
   ]
  },
  {
   "cell_type": "code",
   "execution_count": 31,
   "metadata": {},
   "outputs": [],
   "source": [
    "from sklearn import preprocessing \n",
    "\n",
    "# encode labels to integers\n",
    "label_encoder = preprocessing.LabelEncoder() \n",
    "df['encoded_label'] = label_encoder.fit_transform(df['label']) \n"
   ]
  },
  {
   "cell_type": "code",
   "execution_count": 32,
   "metadata": {},
   "outputs": [],
   "source": [
    "def combine_tokens(tokens):\n",
    "    return ' '.join(tokens)\n",
    "\n",
    "df['clean_text'] = df['clean_tokens'].apply(combine_tokens)\n"
   ]
  },
  {
   "cell_type": "code",
   "execution_count": 33,
   "metadata": {},
   "outputs": [],
   "source": [
    "from sklearn.model_selection import train_test_split\n",
    "\n",
    "X = df.drop(columns=['encoded_label'])\n",
    "y=df['encoded_label']\n",
    "X_train, X_test, y_train, y_test = train_test_split(X, y, test_size=0.2, random_state=42)\n",
    "\n",
    "# select small portion to get code running\n",
    "# X_train = X_train.iloc[0:50]\n",
    "# y_train = y_train.iloc[0:50]\n",
    "# X_test = X_test.iloc[0:10]\n",
    "# y_test = y_test.iloc[0:10]\n"
   ]
  },
  {
   "cell_type": "markdown",
   "metadata": {},
   "source": [
    "### Training function\n"
   ]
  },
  {
   "cell_type": "code",
   "execution_count": 34,
   "metadata": {},
   "outputs": [],
   "source": [
    "# from sklearn.metrics import accuracy_score\n",
    "from sklearn.feature_extraction.text import TfidfVectorizer\n",
    "from sklearn.metrics import classification_report\n",
    "\n",
    "def run_baseline(baseline_function, dataframe, text_col, label_col):\n",
    "    X = dataframe.drop(columns=[label_col])\n",
    "    y=dataframe[label_col]\n",
    "    X_train, X_test, y_train, y_test = train_test_split(X, y, test_size=0.2, random_state=42)\n",
    "\n",
    "    vectorizer = TfidfVectorizer()\n",
    "    X_train_tfidf_bin = vectorizer.fit_transform(X_train[text_col])\n",
    "    X_test_tfidf_bin = vectorizer.transform(X_test[text_col])\n",
    "\n",
    "    model = baseline_function\n",
    "\n",
    "    # Train the classifier on the training data\n",
    "    model.fit(X_train_tfidf_bin, y_train)\n",
    "\n",
    "    y_pred = model.predict(X_test_tfidf_bin)\n",
    "\n",
    "    # Calculate the accuracy of the classifier\n",
    "    report = classification_report(y_test, y_pred)\n",
    "    print(report)\n",
    "\n",
    "    predictions = X_test.copy()\n",
    "    predictions[label_col] = y_test\n",
    "    predictions['prediction'] = y_pred\n",
    "    return predictions"
   ]
  },
  {
   "cell_type": "markdown",
   "metadata": {},
   "source": [
    "### Baseline 1: linear SVM+tf-idf"
   ]
  },
  {
   "cell_type": "code",
   "execution_count": 35,
   "metadata": {},
   "outputs": [
    {
     "name": "stderr",
     "output_type": "stream",
     "text": [
      "/anaconda/envs/AmsterdamInContextLearning/lib/python3.9/site-packages/sklearn/svm/_classes.py:31: FutureWarning: The default value of `dual` will change from `True` to `'auto'` in 1.5. Set the value of `dual` explicitly to suppress the warning.\n",
      "  warnings.warn(\n"
     ]
    },
    {
     "name": "stdout",
     "output_type": "stream",
     "text": [
      "                      precision    recall  f1-score   support\n",
      "\n",
      "         Actualiteit       1.00      0.80      0.89        44\n",
      "              Agenda       0.99      0.98      0.99       173\n",
      "             Besluit       1.00      0.95      0.98        22\n",
      "               Brief       0.92      0.90      0.91        68\n",
      "          Factsheets       1.00      0.40      0.57         5\n",
      "               Motie       0.96      0.98      0.97       366\n",
      "   Onderzoeksrapport       0.84      0.96      0.90        54\n",
      "          Raadsadres       0.89      0.95      0.92        84\n",
      "        Raadsnotulen       1.00      1.00      1.00         6\n",
      "Schriftelijke Vragen       0.96      0.94      0.95       122\n",
      "          Voordracht       1.00      1.00      1.00       125\n",
      "\n",
      "            accuracy                           0.96      1069\n",
      "           macro avg       0.96      0.90      0.92      1069\n",
      "        weighted avg       0.96      0.96      0.96      1069\n",
      "\n"
     ]
    }
   ],
   "source": [
    "from sklearn.svm import LinearSVC\n",
    "linear_svm = run_baseline(LinearSVC(), df, 'clean_text', 'label')"
   ]
  },
  {
   "cell_type": "markdown",
   "metadata": {},
   "source": [
    "### Baseline 2: Naive Bayes+tf-idf"
   ]
  },
  {
   "cell_type": "code",
   "execution_count": 36,
   "metadata": {},
   "outputs": [
    {
     "name": "stdout",
     "output_type": "stream",
     "text": [
      "                      precision    recall  f1-score   support\n",
      "\n",
      "         Actualiteit       0.00      0.00      0.00        44\n",
      "              Agenda       0.96      0.99      0.97       173\n",
      "             Besluit       0.00      0.00      0.00        22\n",
      "               Brief       0.00      0.00      0.00        68\n",
      "          Factsheets       0.00      0.00      0.00         5\n",
      "               Motie       0.48      1.00      0.65       366\n",
      "   Onderzoeksrapport       0.78      0.13      0.22        54\n",
      "          Raadsadres       0.00      0.00      0.00        84\n",
      "        Raadsnotulen       0.00      0.00      0.00         6\n",
      "Schriftelijke Vragen       1.00      0.02      0.05       122\n",
      "          Voordracht       1.00      0.95      0.98       125\n",
      "\n",
      "            accuracy                           0.62      1069\n",
      "           macro avg       0.38      0.28      0.26      1069\n",
      "        weighted avg       0.59      0.62      0.51      1069\n",
      "\n"
     ]
    },
    {
     "name": "stderr",
     "output_type": "stream",
     "text": [
      "/anaconda/envs/AmsterdamInContextLearning/lib/python3.9/site-packages/sklearn/metrics/_classification.py:1509: UndefinedMetricWarning: Precision is ill-defined and being set to 0.0 in labels with no predicted samples. Use `zero_division` parameter to control this behavior.\n",
      "  _warn_prf(average, modifier, f\"{metric.capitalize()} is\", len(result))\n",
      "/anaconda/envs/AmsterdamInContextLearning/lib/python3.9/site-packages/sklearn/metrics/_classification.py:1509: UndefinedMetricWarning: Precision is ill-defined and being set to 0.0 in labels with no predicted samples. Use `zero_division` parameter to control this behavior.\n",
      "  _warn_prf(average, modifier, f\"{metric.capitalize()} is\", len(result))\n",
      "/anaconda/envs/AmsterdamInContextLearning/lib/python3.9/site-packages/sklearn/metrics/_classification.py:1509: UndefinedMetricWarning: Precision is ill-defined and being set to 0.0 in labels with no predicted samples. Use `zero_division` parameter to control this behavior.\n",
      "  _warn_prf(average, modifier, f\"{metric.capitalize()} is\", len(result))\n"
     ]
    }
   ],
   "source": [
    "from sklearn.naive_bayes import MultinomialNB\n",
    "naive_bayes = run_baseline(MultinomialNB(), df, 'clean_text', 'label')"
   ]
  },
  {
   "cell_type": "markdown",
   "metadata": {},
   "source": [
    "precision, recall and f1-score equal to zero occurs if there are not True Positives. Meaning for those classes not one document is correctly predicted. "
   ]
  },
  {
   "cell_type": "markdown",
   "metadata": {},
   "source": [
    "### Baseline 3: Logistic Regression + tf-idf"
   ]
  },
  {
   "cell_type": "code",
   "execution_count": 37,
   "metadata": {},
   "outputs": [
    {
     "name": "stdout",
     "output_type": "stream",
     "text": [
      "                      precision    recall  f1-score   support\n",
      "\n",
      "         Actualiteit       1.00      0.57      0.72        44\n",
      "              Agenda       0.99      0.98      0.99       173\n",
      "             Besluit       1.00      0.77      0.87        22\n",
      "               Brief       0.92      0.81      0.86        68\n",
      "          Factsheets       1.00      0.20      0.33         5\n",
      "               Motie       0.92      0.98      0.95       366\n",
      "   Onderzoeksrapport       0.87      0.89      0.88        54\n",
      "          Raadsadres       0.81      0.94      0.87        84\n",
      "        Raadsnotulen       1.00      1.00      1.00         6\n",
      "Schriftelijke Vragen       0.95      0.94      0.95       122\n",
      "          Voordracht       0.99      0.99      0.99       125\n",
      "\n",
      "            accuracy                           0.94      1069\n",
      "           macro avg       0.95      0.83      0.86      1069\n",
      "        weighted avg       0.94      0.94      0.93      1069\n",
      "\n"
     ]
    }
   ],
   "source": [
    "from sklearn.linear_model import LogisticRegression\n",
    "log_reg = run_baseline(LogisticRegression(), df, 'clean_text', 'label')"
   ]
  },
  {
   "cell_type": "markdown",
   "metadata": {},
   "source": [
    "### Baseline 4: k Nearest Neigbors + tf-idf"
   ]
  },
  {
   "cell_type": "code",
   "execution_count": 38,
   "metadata": {},
   "outputs": [
    {
     "name": "stdout",
     "output_type": "stream",
     "text": [
      "                      precision    recall  f1-score   support\n",
      "\n",
      "         Actualiteit       0.59      0.43      0.50        44\n",
      "              Agenda       0.82      0.99      0.90       173\n",
      "             Besluit       0.71      0.77      0.74        22\n",
      "               Brief       0.36      0.40      0.38        68\n",
      "          Factsheets       0.38      0.60      0.46         5\n",
      "               Motie       0.80      0.81      0.80       366\n",
      "   Onderzoeksrapport       0.44      0.50      0.47        54\n",
      "          Raadsadres       0.75      0.32      0.45        84\n",
      "        Raadsnotulen       0.35      1.00      0.52         6\n",
      "Schriftelijke Vragen       0.72      0.58      0.64       122\n",
      "          Voordracht       0.89      0.97      0.93       125\n",
      "\n",
      "            accuracy                           0.73      1069\n",
      "           macro avg       0.62      0.67      0.62      1069\n",
      "        weighted avg       0.74      0.73      0.73      1069\n",
      "\n"
     ]
    }
   ],
   "source": [
    "from sklearn.neighbors import KNeighborsClassifier\n",
    "knn = run_baseline(KNeighborsClassifier(), df, 'clean_text', 'label')"
   ]
  },
  {
   "cell_type": "markdown",
   "metadata": {},
   "source": [
    "### Baseline 5: RandomForest + tf-idf"
   ]
  },
  {
   "cell_type": "code",
   "execution_count": 39,
   "metadata": {},
   "outputs": [
    {
     "name": "stdout",
     "output_type": "stream",
     "text": [
      "                      precision    recall  f1-score   support\n",
      "\n",
      "         Actualiteit       1.00      0.61      0.76        44\n",
      "              Agenda       0.97      0.99      0.98       173\n",
      "             Besluit       1.00      0.86      0.93        22\n",
      "               Brief       0.82      0.94      0.88        68\n",
      "          Factsheets       0.00      0.00      0.00         5\n",
      "               Motie       0.97      0.95      0.96       366\n",
      "   Onderzoeksrapport       0.85      0.94      0.89        54\n",
      "          Raadsadres       0.82      0.96      0.89        84\n",
      "        Raadsnotulen       1.00      0.83      0.91         6\n",
      "Schriftelijke Vragen       0.96      0.94      0.95       122\n",
      "          Voordracht       1.00      0.99      1.00       125\n",
      "\n",
      "            accuracy                           0.94      1069\n",
      "           macro avg       0.85      0.82      0.83      1069\n",
      "        weighted avg       0.94      0.94      0.94      1069\n",
      "\n"
     ]
    },
    {
     "name": "stderr",
     "output_type": "stream",
     "text": [
      "/anaconda/envs/AmsterdamInContextLearning/lib/python3.9/site-packages/sklearn/metrics/_classification.py:1509: UndefinedMetricWarning: Precision is ill-defined and being set to 0.0 in labels with no predicted samples. Use `zero_division` parameter to control this behavior.\n",
      "  _warn_prf(average, modifier, f\"{metric.capitalize()} is\", len(result))\n",
      "/anaconda/envs/AmsterdamInContextLearning/lib/python3.9/site-packages/sklearn/metrics/_classification.py:1509: UndefinedMetricWarning: Precision is ill-defined and being set to 0.0 in labels with no predicted samples. Use `zero_division` parameter to control this behavior.\n",
      "  _warn_prf(average, modifier, f\"{metric.capitalize()} is\", len(result))\n",
      "/anaconda/envs/AmsterdamInContextLearning/lib/python3.9/site-packages/sklearn/metrics/_classification.py:1509: UndefinedMetricWarning: Precision is ill-defined and being set to 0.0 in labels with no predicted samples. Use `zero_division` parameter to control this behavior.\n",
      "  _warn_prf(average, modifier, f\"{metric.capitalize()} is\", len(result))\n"
     ]
    }
   ],
   "source": [
    "from sklearn.ensemble import RandomForestClassifier\n",
    "random_forest = run_baseline(RandomForestClassifier(), df, 'clean_text', 'label')"
   ]
  },
  {
   "cell_type": "code",
   "execution_count": null,
   "metadata": {},
   "outputs": [],
   "source": []
  }
 ],
 "metadata": {
  "kernelspec": {
   "display_name": "AmsterdamInContextLearning",
   "language": "python",
   "name": "amsterdamincontextlearning"
  },
  "language_info": {
   "codemirror_mode": {
    "name": "ipython",
    "version": 3
   },
   "file_extension": ".py",
   "mimetype": "text/x-python",
   "name": "python",
   "nbconvert_exporter": "python",
   "pygments_lexer": "ipython3",
   "version": "3.9.19"
  }
 },
 "nbformat": 4,
 "nbformat_minor": 2
}
