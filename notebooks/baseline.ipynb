{
  "cells": [
    {
      "cell_type": "code",
      "execution_count": 1,
      "metadata": {},
      "outputs": [],
      "source": [
        "!bash /home/azureuser/cloudfiles/code/blobfuse/blobfuse_raadsinformatie.sh\n"
      ]
    },
    {
      "cell_type": "code",
      "execution_count": 1,
      "metadata": {},
      "outputs": [],
      "source": [
        "import sys\n",
        "sys.path.append(\"..\")\n",
        "\n",
        "# Select where to run notebook: \"azure\" or \"local\"\n",
        "my_run = \"azure\"\n",
        "\n",
        "import my_secrets as sc\n",
        "import settings as st\n",
        "\n",
        "if my_run == \"azure\":\n",
        "    import config_azure as cf\n",
        "elif my_run == \"local\":\n",
        "    import config as cf\n",
        "\n",
        "\n",
        "import os\n",
        "if my_run == \"azure\":\n",
        "    if not os.path.exists(cf.HUGGING_CACHE):\n",
        "        os.mkdir(cf.HUGGING_CACHE)\n",
        "    os.environ[\"TRANSFORMERS_CACHE\"] = cf.HUGGING_CACHE\n",
        "\n",
        "\n",
        "# setup environment GEITje-7B Finetuning\n",
        "# - pip install torch\n",
        "# - pip install datasets\n",
        "# - pip install transformers\n",
        "# - pip install trl\n",
        "# - pip install accelerate (restart after)\n",
        "# - switch device_map='auto' to avaoid memory error\n",
        "\n",
        "# - pip install sentencepiece\n",
        "# - pip install jupyter\n",
        "# - pip install protobuf \n",
        "\n"
      ]
    },
    {
      "cell_type": "markdown",
      "metadata": {},
      "source": [
        "## Notebook overview\n",
        "This notebook creates predictions for the baseline models. In total, five models are tried out.\n",
        "- Training function. Given a baseline model, will return scores.\n",
        "- Load Data. Load all the documents, and set parameters.\n",
        "- save predictions\n",
        "\n",
        "\n",
        "Kernel: Pytorch and Tensorflow"
      ]
    },
    {
      "cell_type": "markdown",
      "metadata": {},
      "source": [
        "### Load file with training funcation\n"
      ]
    },
    {
      "cell_type": "code",
      "execution_count": 2,
      "metadata": {},
      "outputs": [],
      "source": [
        "import sys\n",
        "sys.path.append('../scripts/') \n",
        "import baseline as bf"
      ]
    },
    {
      "cell_type": "markdown",
      "metadata": {},
      "source": [
        "### Load data"
      ]
    },
    {
      "cell_type": "code",
      "execution_count": 3,
      "metadata": {},
      "outputs": [
        {
          "name": "stdout",
          "output_type": "stream",
          "text": [
            "Counter({'train': 16445, 'test': 4373})\n",
            "Counter({'train': 15613, 'test': 4164, 'dev': 832, 'val': 209})\n"
          ]
        }
      ],
      "source": [
        "from collections import Counter\n",
        "import pandas as pd\n",
        "\n",
        "# df = pd.read_pickle(f\"{cf.output_path}/txtfiles.pkl\")\n",
        "df = pd.read_pickle(f\"{cf.output_path}/txtfiles_tokenizer.pkl\")\n",
        "\n",
        "print(Counter(df['2split']))\n",
        "print(Counter(df['4split']))\n",
        "\n",
        "#set  variables, same for each model\n",
        "SPLIT_COLUMN = '4split' #column that has the data split saved. must be either 2split or 4split. 2split = data split into train and test. 4split = data split into train, test, dev and val. \n",
        "TRAIN_SET = 'train' # must be dev or train\n",
        "TEST_SET = 'test' # must be val or test\n",
        "# this split column, train_set and test_set might be a bit confusing. The split_column need to have values about the split, so a row either belongs, in my case, to 'train', 'test', 'dev' or 'val'.\n",
        "# Then the train_set indates which rows will be selected based on the filtering of the split column. \n",
        "# Thus if TRAIN_SET = 'train', then all rows where split_col is 'train', will be selected as the training set.\n",
        "# The same goes for TEST_SET    \n",
        "\n",
        "\n",
        "TEXT_COLUMN = 'text' # column where the text is\n",
        "LABEL_COLUMN = 'label' # column with truth label\n",
        "DATAFRAME = df.copy() # df where each rows is a doc. \n",
        "PATH = f\"{cf.output_path}/predictions/baselinePredictions.pkl\" # path where each individual prediction is saved\n",
        "OVERVIEW_PATH = f\"{cf.output_path}/overview/baselineOverview.pkl\" # path where score and extra data about run is saved"
      ]
    },
    {
      "cell_type": "code",
      "execution_count": 4,
      "metadata": {},
      "outputs": [
        {
          "data": {
            "text/html": [
              "<div>\n",
              "<style scoped>\n",
              "    .dataframe tbody tr th:only-of-type {\n",
              "        vertical-align: middle;\n",
              "    }\n",
              "\n",
              "    .dataframe tbody tr th {\n",
              "        vertical-align: top;\n",
              "    }\n",
              "\n",
              "    .dataframe thead th {\n",
              "        text-align: right;\n",
              "    }\n",
              "</style>\n",
              "<table border=\"1\" class=\"dataframe\">\n",
              "  <thead>\n",
              "    <tr style=\"text-align: right;\">\n",
              "      <th></th>\n",
              "      <th>label</th>\n",
              "      <th>path</th>\n",
              "      <th>id</th>\n",
              "      <th>text</th>\n",
              "      <th>tokens</th>\n",
              "      <th>token_count</th>\n",
              "      <th>clean_tokens</th>\n",
              "      <th>clean_tokens_count</th>\n",
              "      <th>num_pages</th>\n",
              "      <th>clean_text</th>\n",
              "      <th>4split</th>\n",
              "      <th>2split</th>\n",
              "      <th>MistralTokens</th>\n",
              "      <th>count_MistralTokens</th>\n",
              "      <th>LlamaTokens</th>\n",
              "      <th>count_LlamaTokens</th>\n",
              "      <th>old_label</th>\n",
              "      <th>md5_hash</th>\n",
              "    </tr>\n",
              "  </thead>\n",
              "  <tbody>\n",
              "    <tr>\n",
              "      <th>7597</th>\n",
              "      <td>Motie</td>\n",
              "      <td>/home/azureuser/cloudfiles/code/blobfuse/raads...</td>\n",
              "      <td>8271</td>\n",
              "      <td>&gt; Gemeente\\nAmsterdam\\nMotie\\nDatum raadsverga...</td>\n",
              "      <td>[&gt;, Gemeente, Amsterdam, Motie, Datum, raadsve...</td>\n",
              "      <td>297</td>\n",
              "      <td>[Gemeente, Amsterdam, Motie, Datum, raadsverga...</td>\n",
              "      <td>164</td>\n",
              "      <td>2.0</td>\n",
              "      <td>Gemeente Amsterdam Motie Datum raadsvergaderin...</td>\n",
              "      <td>train</td>\n",
              "      <td>train</td>\n",
              "      <td>[▁&gt;, ▁Geme, ente, &lt;0x0A&gt;, Am, sterdam, &lt;0x0A&gt;,...</td>\n",
              "      <td>670</td>\n",
              "      <td>[▁&gt;, ▁Geme, ente, &lt;0x0A&gt;, Am, sterdam, &lt;0x0A&gt;,...</td>\n",
              "      <td>662</td>\n",
              "      <td>Motie</td>\n",
              "      <td>25af723ad7b643523906fa76d1f91277</td>\n",
              "    </tr>\n",
              "    <tr>\n",
              "      <th>7036</th>\n",
              "      <td>Motie</td>\n",
              "      <td>/home/azureuser/cloudfiles/code/blobfuse/raads...</td>\n",
              "      <td>1886</td>\n",
              "      <td>x Gemeente Amsterdam R\\nGemeenteraad\\n\\n% Geme...</td>\n",
              "      <td>[x, Gemeente, Amsterdam, R, Gemeenteraad, %, G...</td>\n",
              "      <td>403</td>\n",
              "      <td>[Gemeente, Amsterdam, Gemeenteraad, Gemeentebl...</td>\n",
              "      <td>216</td>\n",
              "      <td>2.0</td>\n",
              "      <td>Gemeente Amsterdam Gemeenteraad Gemeenteblad A...</td>\n",
              "      <td>train</td>\n",
              "      <td>train</td>\n",
              "      <td>[▁x, ▁Geme, ente, ▁Amsterdam, ▁R, &lt;0x0A&gt;, G, e...</td>\n",
              "      <td>945</td>\n",
              "      <td>[▁x, ▁Geme, ente, ▁Amsterdam, ▁R, &lt;0x0A&gt;, G, e...</td>\n",
              "      <td>921</td>\n",
              "      <td>Motie</td>\n",
              "      <td>ddc0620d66e360fec03e90180a63e634</td>\n",
              "    </tr>\n",
              "    <tr>\n",
              "      <th>23263</th>\n",
              "      <td>Motie</td>\n",
              "      <td>/home/azureuser/cloudfiles/code/blobfuse/raads...</td>\n",
              "      <td>7445</td>\n",
              "      <td>&gt; Gemeente\\nAmsterdam\\n\\nMotie\\n\\nDatum raadsv...</td>\n",
              "      <td>[&gt;, Gemeente, Amsterdam, Motie, Datum, raadsve...</td>\n",
              "      <td>195</td>\n",
              "      <td>[Gemeente, Amsterdam, Motie, Datum, raadsverga...</td>\n",
              "      <td>109</td>\n",
              "      <td>2.0</td>\n",
              "      <td>Gemeente Amsterdam Motie Datum raadsvergaderin...</td>\n",
              "      <td>train</td>\n",
              "      <td>train</td>\n",
              "      <td>[▁&gt;, ▁Geme, ente, &lt;0x0A&gt;, Am, sterdam, &lt;0x0A&gt;,...</td>\n",
              "      <td>468</td>\n",
              "      <td>[▁&gt;, ▁Geme, ente, &lt;0x0A&gt;, Am, sterdam, &lt;0x0A&gt;,...</td>\n",
              "      <td>453</td>\n",
              "      <td>Motie</td>\n",
              "      <td>a9dd0c8e28d179bb583e0b27ecb00273</td>\n",
              "    </tr>\n",
              "    <tr>\n",
              "      <th>12036</th>\n",
              "      <td>Onderzoeksrapport</td>\n",
              "      <td>/home/azureuser/cloudfiles/code/blobfuse/raads...</td>\n",
              "      <td>8563</td>\n",
              "      <td>Voortgangsrapportage ouderenhuisvesting 2017\\n...</td>\n",
              "      <td>[Voortgangsrapportage, ouderenhuisvesting, 201...</td>\n",
              "      <td>12328</td>\n",
              "      <td>[Voortgangsrapportage, ouderenhuisvesting, 201...</td>\n",
              "      <td>6146</td>\n",
              "      <td>33.0</td>\n",
              "      <td>Voortgangsrapportage ouderenhuisvesting 2017 k...</td>\n",
              "      <td>train</td>\n",
              "      <td>train</td>\n",
              "      <td>[▁Vo, ort, gang, s, rap, port, age, ▁ou, der, ...</td>\n",
              "      <td>27689</td>\n",
              "      <td>[▁Vo, ort, gang, s, ra, pport, age, ▁ou, der, ...</td>\n",
              "      <td>26621</td>\n",
              "      <td>Onderzoeksrapport</td>\n",
              "      <td>5f7907def7782f59fbaca368d2af4c6f</td>\n",
              "    </tr>\n",
              "    <tr>\n",
              "      <th>10774</th>\n",
              "      <td>Raadsadres</td>\n",
              "      <td>/home/azureuser/cloudfiles/code/blobfuse/raads...</td>\n",
              "      <td>24161</td>\n",
              "      <td>ERR Stiehting Motorschip Agatha\\nse Ds GO\\nPa ...</td>\n",
              "      <td>[ERR, Stiehting, Motorschip, Agatha, se, Ds, G...</td>\n",
              "      <td>233</td>\n",
              "      <td>[ERR, Stiehting, Motorschip, Agatha, se, Ds, G...</td>\n",
              "      <td>124</td>\n",
              "      <td>1.0</td>\n",
              "      <td>ERR Stiehting Motorschip Agatha se Ds GO Pa Da...</td>\n",
              "      <td>train</td>\n",
              "      <td>train</td>\n",
              "      <td>[▁ERR, ▁St, ie, ht, ing, ▁Mot, ors, chip, ▁Ag,...</td>\n",
              "      <td>497</td>\n",
              "      <td>[▁ERR, ▁St, ie, ht, ing, ▁Motor, sch, ip, ▁Ag,...</td>\n",
              "      <td>494</td>\n",
              "      <td>Raadsadres</td>\n",
              "      <td>bff28ebc12e31e7b06f78c17b23c441b</td>\n",
              "    </tr>\n",
              "  </tbody>\n",
              "</table>\n",
              "</div>"
            ],
            "text/plain": [
              "                   label                                               path  \\\n",
              "7597               Motie  /home/azureuser/cloudfiles/code/blobfuse/raads...   \n",
              "7036               Motie  /home/azureuser/cloudfiles/code/blobfuse/raads...   \n",
              "23263              Motie  /home/azureuser/cloudfiles/code/blobfuse/raads...   \n",
              "12036  Onderzoeksrapport  /home/azureuser/cloudfiles/code/blobfuse/raads...   \n",
              "10774         Raadsadres  /home/azureuser/cloudfiles/code/blobfuse/raads...   \n",
              "\n",
              "          id                                               text  \\\n",
              "7597    8271  > Gemeente\\nAmsterdam\\nMotie\\nDatum raadsverga...   \n",
              "7036    1886  x Gemeente Amsterdam R\\nGemeenteraad\\n\\n% Geme...   \n",
              "23263   7445  > Gemeente\\nAmsterdam\\n\\nMotie\\n\\nDatum raadsv...   \n",
              "12036   8563  Voortgangsrapportage ouderenhuisvesting 2017\\n...   \n",
              "10774  24161  ERR Stiehting Motorschip Agatha\\nse Ds GO\\nPa ...   \n",
              "\n",
              "                                                  tokens  token_count  \\\n",
              "7597   [>, Gemeente, Amsterdam, Motie, Datum, raadsve...          297   \n",
              "7036   [x, Gemeente, Amsterdam, R, Gemeenteraad, %, G...          403   \n",
              "23263  [>, Gemeente, Amsterdam, Motie, Datum, raadsve...          195   \n",
              "12036  [Voortgangsrapportage, ouderenhuisvesting, 201...        12328   \n",
              "10774  [ERR, Stiehting, Motorschip, Agatha, se, Ds, G...          233   \n",
              "\n",
              "                                            clean_tokens  clean_tokens_count  \\\n",
              "7597   [Gemeente, Amsterdam, Motie, Datum, raadsverga...                 164   \n",
              "7036   [Gemeente, Amsterdam, Gemeenteraad, Gemeentebl...                 216   \n",
              "23263  [Gemeente, Amsterdam, Motie, Datum, raadsverga...                 109   \n",
              "12036  [Voortgangsrapportage, ouderenhuisvesting, 201...                6146   \n",
              "10774  [ERR, Stiehting, Motorschip, Agatha, se, Ds, G...                 124   \n",
              "\n",
              "       num_pages                                         clean_text 4split  \\\n",
              "7597         2.0  Gemeente Amsterdam Motie Datum raadsvergaderin...  train   \n",
              "7036         2.0  Gemeente Amsterdam Gemeenteraad Gemeenteblad A...  train   \n",
              "23263        2.0  Gemeente Amsterdam Motie Datum raadsvergaderin...  train   \n",
              "12036       33.0  Voortgangsrapportage ouderenhuisvesting 2017 k...  train   \n",
              "10774        1.0  ERR Stiehting Motorschip Agatha se Ds GO Pa Da...  train   \n",
              "\n",
              "      2split                                      MistralTokens  \\\n",
              "7597   train  [▁>, ▁Geme, ente, <0x0A>, Am, sterdam, <0x0A>,...   \n",
              "7036   train  [▁x, ▁Geme, ente, ▁Amsterdam, ▁R, <0x0A>, G, e...   \n",
              "23263  train  [▁>, ▁Geme, ente, <0x0A>, Am, sterdam, <0x0A>,...   \n",
              "12036  train  [▁Vo, ort, gang, s, rap, port, age, ▁ou, der, ...   \n",
              "10774  train  [▁ERR, ▁St, ie, ht, ing, ▁Mot, ors, chip, ▁Ag,...   \n",
              "\n",
              "       count_MistralTokens                                        LlamaTokens  \\\n",
              "7597                   670  [▁>, ▁Geme, ente, <0x0A>, Am, sterdam, <0x0A>,...   \n",
              "7036                   945  [▁x, ▁Geme, ente, ▁Amsterdam, ▁R, <0x0A>, G, e...   \n",
              "23263                  468  [▁>, ▁Geme, ente, <0x0A>, Am, sterdam, <0x0A>,...   \n",
              "12036                27689  [▁Vo, ort, gang, s, ra, pport, age, ▁ou, der, ...   \n",
              "10774                  497  [▁ERR, ▁St, ie, ht, ing, ▁Motor, sch, ip, ▁Ag,...   \n",
              "\n",
              "       count_LlamaTokens          old_label                          md5_hash  \n",
              "7597                 662              Motie  25af723ad7b643523906fa76d1f91277  \n",
              "7036                 921              Motie  ddc0620d66e360fec03e90180a63e634  \n",
              "23263                453              Motie  a9dd0c8e28d179bb583e0b27ecb00273  \n",
              "12036              26621  Onderzoeksrapport  5f7907def7782f59fbaca368d2af4c6f  \n",
              "10774                494         Raadsadres  bff28ebc12e31e7b06f78c17b23c441b  "
            ]
          },
          "metadata": {},
          "output_type": "display_data"
        }
      ],
      "source": [
        "display(df.head())"
      ]
    },
    {
      "cell_type": "markdown",
      "metadata": {},
      "source": [
        "### Baselines"
      ]
    },
    {
      "cell_type": "markdown",
      "metadata": {},
      "source": [
        "##### Baseline 1: linear SVM+tf-idf"
      ]
    },
    {
      "cell_type": "code",
      "execution_count": 10,
      "metadata": {},
      "outputs": [
        {
          "name": "stdout",
          "output_type": "stream",
          "text": [
            "                      precision    recall  f1-score   support\n",
            "\n",
            "         Actualiteit       0.98      0.84      0.90       152\n",
            "              Agenda       0.98      0.98      0.98       528\n",
            "             Besluit       0.96      0.94      0.95       113\n",
            "               Brief       0.91      0.88      0.90       206\n",
            "          Factsheets       0.91      0.47      0.62        45\n",
            "               Motie       0.98      0.98      0.98      1545\n",
            "   Onderzoeksrapport       0.80      0.97      0.88       222\n",
            "          Raadsadres       0.91      0.98      0.94       313\n",
            "        Raadsnotulen       1.00      1.00      1.00        42\n",
            "Schriftelijke Vragen       0.99      0.95      0.97       603\n",
            "          Voordracht       1.00      1.00      1.00       395\n",
            "\n",
            "            accuracy                           0.96      4164\n",
            "           macro avg       0.95      0.91      0.92      4164\n",
            "        weighted avg       0.96      0.96      0.96      4164\n",
            "\n"
          ]
        }
      ],
      "source": [
        "from sklearn.svm import LinearSVC\n",
        "linear_svm = bf.run_baseline(LinearSVC(), 'LinearSVC' , DATAFRAME, SPLIT_COLUMN, TRAIN_SET, TEST_SET,TEXT_COLUMN, LABEL_COLUMN, PATH, OVERVIEW_PATH)"
      ]
    },
    {
      "cell_type": "markdown",
      "metadata": {},
      "source": [
        "##### Baseline 2: Naive Bayes+tf-idf"
      ]
    },
    {
      "cell_type": "code",
      "execution_count": 11,
      "metadata": {},
      "outputs": [
        {
          "name": "stderr",
          "output_type": "stream",
          "text": [
            "/anaconda/envs/azureml_py38_PT_TF/lib/python3.8/site-packages/sklearn/metrics/_classification.py:1344: UndefinedMetricWarning: Precision and F-score are ill-defined and being set to 0.0 in labels with no predicted samples. Use `zero_division` parameter to control this behavior.\n",
            "  _warn_prf(average, modifier, msg_start, len(result))\n",
            "/anaconda/envs/azureml_py38_PT_TF/lib/python3.8/site-packages/sklearn/metrics/_classification.py:1344: UndefinedMetricWarning: Precision and F-score are ill-defined and being set to 0.0 in labels with no predicted samples. Use `zero_division` parameter to control this behavior.\n",
            "  _warn_prf(average, modifier, msg_start, len(result))\n",
            "/anaconda/envs/azureml_py38_PT_TF/lib/python3.8/site-packages/sklearn/metrics/_classification.py:1344: UndefinedMetricWarning: Precision and F-score are ill-defined and being set to 0.0 in labels with no predicted samples. Use `zero_division` parameter to control this behavior.\n",
            "  _warn_prf(average, modifier, msg_start, len(result))\n"
          ]
        },
        {
          "name": "stdout",
          "output_type": "stream",
          "text": [
            "                      precision    recall  f1-score   support\n",
            "\n",
            "         Actualiteit       0.00      0.00      0.00       152\n",
            "              Agenda       0.98      0.92      0.95       528\n",
            "             Besluit       0.00      0.00      0.00       113\n",
            "               Brief       0.00      0.00      0.00       206\n",
            "          Factsheets       0.00      0.00      0.00        45\n",
            "               Motie       0.46      1.00      0.63      1545\n",
            "   Onderzoeksrapport       0.38      0.06      0.11       222\n",
            "          Raadsadres       1.00      0.00      0.01       313\n",
            "        Raadsnotulen       0.00      0.00      0.00        42\n",
            "Schriftelijke Vragen       1.00      0.05      0.09       603\n",
            "          Voordracht       0.99      0.66      0.79       395\n",
            "\n",
            "            accuracy                           0.56      4164\n",
            "           macro avg       0.44      0.24      0.23      4164\n",
            "        weighted avg       0.63      0.56      0.45      4164\n",
            "\n"
          ]
        },
        {
          "name": "stderr",
          "output_type": "stream",
          "text": [
            "/anaconda/envs/azureml_py38_PT_TF/lib/python3.8/site-packages/sklearn/metrics/_classification.py:1344: UndefinedMetricWarning: Precision is ill-defined and being set to 0.0 in labels with no predicted samples. Use `zero_division` parameter to control this behavior.\n",
            "  _warn_prf(average, modifier, msg_start, len(result))\n"
          ]
        }
      ],
      "source": [
        "from sklearn.naive_bayes import MultinomialNB\n",
        "naive_bayes = bf.run_baseline(MultinomialNB(), 'MultinomialNB' , DATAFRAME, SPLIT_COLUMN, TRAIN_SET, TEST_SET,TEXT_COLUMN, LABEL_COLUMN, PATH, OVERVIEW_PATH)"
      ]
    },
    {
      "cell_type": "markdown",
      "metadata": {},
      "source": [
        "precision, recall and f1-score equal to zero occurs if there are not True Positives. Meaning for those classes not one document is correctly predicted. "
      ]
    },
    {
      "cell_type": "markdown",
      "metadata": {},
      "source": [
        "##### Baseline 3: Logistic Regression + tf-idf"
      ]
    },
    {
      "cell_type": "code",
      "execution_count": 12,
      "metadata": {},
      "outputs": [
        {
          "name": "stderr",
          "output_type": "stream",
          "text": [
            "/anaconda/envs/azureml_py38_PT_TF/lib/python3.8/site-packages/sklearn/linear_model/_logistic.py:458: ConvergenceWarning: lbfgs failed to converge (status=1):\n",
            "STOP: TOTAL NO. of ITERATIONS REACHED LIMIT.\n",
            "\n",
            "Increase the number of iterations (max_iter) or scale the data as shown in:\n",
            "    https://scikit-learn.org/stable/modules/preprocessing.html\n",
            "Please also refer to the documentation for alternative solver options:\n",
            "    https://scikit-learn.org/stable/modules/linear_model.html#logistic-regression\n",
            "  n_iter_i = _check_optimize_result(\n"
          ]
        },
        {
          "name": "stdout",
          "output_type": "stream",
          "text": [
            "                      precision    recall  f1-score   support\n",
            "\n",
            "         Actualiteit       0.99      0.73      0.84       152\n",
            "              Agenda       0.98      0.98      0.98       528\n",
            "             Besluit       0.95      0.87      0.91       113\n",
            "               Brief       0.90      0.87      0.88       206\n",
            "          Factsheets       0.92      0.49      0.64        45\n",
            "               Motie       0.97      0.98      0.98      1545\n",
            "   Onderzoeksrapport       0.78      0.92      0.85       222\n",
            "          Raadsadres       0.87      0.96      0.91       313\n",
            "        Raadsnotulen       1.00      0.98      0.99        42\n",
            "Schriftelijke Vragen       0.98      0.95      0.96       603\n",
            "          Voordracht       1.00      0.99      1.00       395\n",
            "\n",
            "            accuracy                           0.95      4164\n",
            "           macro avg       0.94      0.88      0.90      4164\n",
            "        weighted avg       0.95      0.95      0.95      4164\n",
            "\n"
          ]
        }
      ],
      "source": [
        "from sklearn.linear_model import LogisticRegression\n",
        "log_reg = bf.run_baseline(LogisticRegression(), 'LogisticRegression' , DATAFRAME, SPLIT_COLUMN, TRAIN_SET, TEST_SET,TEXT_COLUMN, LABEL_COLUMN, PATH, OVERVIEW_PATH)"
      ]
    },
    {
      "cell_type": "markdown",
      "metadata": {},
      "source": [
        "##### Baseline 4: k Nearest Neigbors + tf-idf"
      ]
    },
    {
      "cell_type": "code",
      "execution_count": 13,
      "metadata": {},
      "outputs": [
        {
          "name": "stdout",
          "output_type": "stream",
          "text": [
            "                      precision    recall  f1-score   support\n",
            "\n",
            "         Actualiteit       0.73      0.39      0.51       152\n",
            "              Agenda       0.89      0.98      0.93       528\n",
            "             Besluit       0.81      0.79      0.80       113\n",
            "               Brief       0.35      0.39      0.37       206\n",
            "          Factsheets       0.68      0.38      0.49        45\n",
            "               Motie       0.89      0.68      0.77      1545\n",
            "   Onderzoeksrapport       0.23      0.86      0.36       222\n",
            "          Raadsadres       0.87      0.22      0.35       313\n",
            "        Raadsnotulen       0.15      1.00      0.25        42\n",
            "Schriftelijke Vragen       0.71      0.49      0.58       603\n",
            "          Voordracht       0.95      0.82      0.88       395\n",
            "\n",
            "            accuracy                           0.66      4164\n",
            "           macro avg       0.66      0.64      0.57      4164\n",
            "        weighted avg       0.79      0.66      0.68      4164\n",
            "\n"
          ]
        }
      ],
      "source": [
        "from sklearn.neighbors import KNeighborsClassifier\n",
        "knn = bf.run_baseline(KNeighborsClassifier(), 'KNeighborsClassifier' , DATAFRAME, SPLIT_COLUMN, TRAIN_SET, TEST_SET,TEXT_COLUMN, LABEL_COLUMN, PATH, OVERVIEW_PATH)"
      ]
    },
    {
      "cell_type": "markdown",
      "metadata": {},
      "source": [
        "##### Baseline 5: RandomForest + tf-idf"
      ]
    },
    {
      "cell_type": "code",
      "execution_count": 14,
      "metadata": {},
      "outputs": [
        {
          "name": "stdout",
          "output_type": "stream",
          "text": [
            "                      precision    recall  f1-score   support\n",
            "\n",
            "         Actualiteit       1.00      0.62      0.76       152\n",
            "              Agenda       0.96      0.98      0.97       528\n",
            "             Besluit       0.99      0.83      0.90       113\n",
            "               Brief       0.89      0.85      0.87       206\n",
            "          Factsheets       1.00      0.27      0.42        45\n",
            "               Motie       0.96      0.98      0.97      1545\n",
            "   Onderzoeksrapport       0.80      0.91      0.85       222\n",
            "          Raadsadres       0.80      0.94      0.87       313\n",
            "        Raadsnotulen       1.00      0.98      0.99        42\n",
            "Schriftelijke Vragen       0.97      0.95      0.96       603\n",
            "          Voordracht       0.99      1.00      0.99       395\n",
            "\n",
            "            accuracy                           0.94      4164\n",
            "           macro avg       0.94      0.85      0.87      4164\n",
            "        weighted avg       0.94      0.94      0.94      4164\n",
            "\n"
          ]
        }
      ],
      "source": [
        "from sklearn.ensemble import RandomForestClassifier\n",
        "random_forest = bf.run_baseline(RandomForestClassifier(), 'RandomForestClassifier' , DATAFRAME, SPLIT_COLUMN, TRAIN_SET, TEST_SET,TEXT_COLUMN, LABEL_COLUMN, PATH, OVERVIEW_PATH)"
      ]
    },
    {
      "cell_type": "markdown",
      "metadata": {},
      "source": [
        "### Overview of all runs"
      ]
    },
    {
      "cell_type": "code",
      "execution_count": null,
      "metadata": {},
      "outputs": [],
      "source": [
        "overview = pd.read_pickle(OVERVIEW_PATH)\n",
        "display(overview)"
      ]
    }
  ],
  "metadata": {
    "kernel_info": {
      "name": "python38-azureml"
    },
    "kernelspec": {
      "display_name": "Python 3.8 - Pytorch and Tensorflow",
      "language": "python",
      "name": "python38-azureml-pt-tf"
    },
    "microsoft": {
      "ms_spell_check": {
        "ms_spell_check_language": "en"
      }
    },
    "nteract": {
      "version": "nteract-front-end@1.0.0"
    }
  },
  "nbformat": 4,
  "nbformat_minor": 2
}
