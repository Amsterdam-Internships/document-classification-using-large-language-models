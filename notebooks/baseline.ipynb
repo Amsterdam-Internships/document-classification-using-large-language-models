{
  "cells": [
    {
      "cell_type": "code",
      "execution_count": 1,
      "metadata": {},
      "outputs": [],
      "source": [
        "!bash /home/azureuser/cloudfiles/code/blobfuse/blobfuse_raadsinformatie.sh\n"
      ]
    },
    {
      "cell_type": "code",
      "execution_count": 2,
      "metadata": {},
      "outputs": [],
      "source": [
        "import sys\n",
        "sys.path.append(\"..\")\n",
        "\n",
        "# Select where to run notebook: \"azure\" or \"local\"\n",
        "my_run = \"azure\"\n",
        "\n",
        "import my_secrets as sc\n",
        "import settings as st\n",
        "\n",
        "if my_run == \"azure\":\n",
        "    import config_azure as cf\n",
        "elif my_run == \"local\":\n",
        "    import config as cf\n",
        "\n",
        "\n",
        "import os\n",
        "if my_run == \"azure\":\n",
        "    if not os.path.exists(cf.HUGGING_CACHE):\n",
        "        os.mkdir(cf.HUGGING_CACHE)\n",
        "    os.environ[\"TRANSFORMERS_CACHE\"] = cf.HUGGING_CACHE\n",
        "\n",
        "\n",
        "# setup environment GEITje-7B Finetuning\n",
        "# - pip install torch\n",
        "# - pip install datasets\n",
        "# - pip install transformers\n",
        "# - pip install trl\n",
        "# - pip install accelerate (restart after)\n",
        "# - switch device_map='auto' to avaoid memory error\n",
        "\n",
        "# - pip install sentencepiece\n",
        "# - pip install jupyter\n",
        "# - pip install protobuf \n",
        "\n"
      ]
    },
    {
      "cell_type": "markdown",
      "metadata": {},
      "source": [
        "## Notebook overview\n",
        "This notebook creates predictions for the baseline models. In total, five model are tried out.\n",
        "- Functions to split the data. One function save the split as a column in txtfiles, the other loads the split.\n",
        "- Training function. Given a baseline model, will return scores.\n",
        "- Load Data. Load all the documents, and set parameters.\n",
        "- TODO: save predictions\n",
        "\n",
        "\n",
        "Kernel: Pytorch and Tensorflow"
      ]
    },
    {
      "cell_type": "markdown",
      "metadata": {},
      "source": [
        "### Data split functions"
      ]
    },
    {
      "cell_type": "code",
      "execution_count": 3,
      "metadata": {},
      "outputs": [],
      "source": [
        "from sklearn.model_selection import train_test_split\n",
        "import pandas as pd\n",
        "\n",
        "\"\"\"Function takes a dataframe and splits the data into train, test, val and dev set and save it.\n",
        "Only need to run it once.\n",
        "\"\"\"\n",
        "def save_split(df, save_to_path):\n",
        "    train_df, temp_df = train_test_split(df, test_size=0.25, random_state=42)\n",
        "\n",
        "    # Splitting temp into test (20%) and val_dev (5%)\n",
        "    test_df, val_dev_df = train_test_split(temp_df, test_size=0.2, random_state=42)\n",
        "\n",
        "    # Splitting val_dev into validation (1%) and development (4%)\n",
        "    dev_df,val_df = train_test_split(val_dev_df, test_size=0.2, random_state=42)\n",
        "\n",
        "    # set split into 4 ways: train, test, val and dev\n",
        "    train_df['4split'] = 'train'\n",
        "    test_df['4split'] = 'test'\n",
        "    val_df['4split'] = 'val'\n",
        "    dev_df['4split'] = 'dev'\n",
        "\n",
        "    # set split into 2 ways: test and training\n",
        "    train_df['2split'] = 'train'\n",
        "    test_df['2split'] = 'test'\n",
        "    val_df['2split'] = 'test'\n",
        "    dev_df['2split'] = 'train'\n",
        "\n",
        "    # Combining the DataFrames\n",
        "    final_df = pd.concat([train_df, test_df, val_df, dev_df])\n",
        "    final_df.to_pickle(save_to_path)\n",
        "\n",
        "# txtfiles = pd.read_pickle(f\"{cf.output_path}/txtfiles_tokenizer.pkl\")\n",
        "# save_split(txtfiles, f\"{cf.output_path}/txtfiles_tokenizer.pkl\")\n"
      ]
    },
    {
      "cell_type": "markdown",
      "metadata": {},
      "source": [
        "### Load file with training funcation\n"
      ]
    },
    {
      "cell_type": "code",
      "execution_count": 5,
      "metadata": {},
      "outputs": [],
      "source": [
        "import sys\n",
        "sys.path.append('../scripts/') \n",
        "import baseline as bf"
      ]
    },
    {
      "cell_type": "markdown",
      "metadata": {},
      "source": [
        "### Load data"
      ]
    },
    {
      "cell_type": "code",
      "execution_count": 7,
      "metadata": {},
      "outputs": [
        {
          "name": "stdout",
          "output_type": "stream",
          "text": [
            "Counter({'train': 21096, 'test': 5608})\n",
            "Counter({'train': 20028, 'test': 5340, 'dev': 1068, 'val': 268})\n"
          ]
        }
      ],
      "source": [
        "from collections import Counter\n",
        "import pandas as pd\n",
        "\n",
        "df = pd.read_pickle(f\"{cf.output_path}/txtfiles.pkl\")\n",
        "print(Counter(df['2split']))\n",
        "print(Counter(df['4split']))\n",
        "\n",
        "#set  variables, same for each model\n",
        "TRAIN_SET = 'train' # must be dev or train\n",
        "TEST_SET = 'test' # must be val or test\n",
        "SPLIT_COLUMN = '4split' #must be either 2split or 4split. 2split = data split into train and test. 4split = data split into train, test, dev and val. \n",
        "TEXT_COLUMN = 'text'\n",
        "LABEL_COLUMN = 'label'\n",
        "DATAFRAME = df.copy()\n",
        "PATH = f\"{cf.output_path}/predictions/baselinePredictions.pkl\"\n",
        "OVERVIEW_PATH = f\"{cf.output_path}/overview/baselineOverview.pkl\""
      ]
    },
    {
      "cell_type": "markdown",
      "metadata": {},
      "source": [
        "### Baselines"
      ]
    },
    {
      "cell_type": "markdown",
      "metadata": {},
      "source": [
        "##### Baseline 1: linear SVM+tf-idf"
      ]
    },
    {
      "cell_type": "code",
      "execution_count": 8,
      "metadata": {},
      "outputs": [
        {
          "name": "stderr",
          "output_type": "stream",
          "text": [
            "/anaconda/envs/AmsterdamInContextLearning/lib/python3.9/site-packages/sklearn/svm/_classes.py:31: FutureWarning: The default value of `dual` will change from `True` to `'auto'` in 1.5. Set the value of `dual` explicitly to suppress the warning.\n",
            "  warnings.warn(\n"
          ]
        },
        {
          "name": "stdout",
          "output_type": "stream",
          "text": [
            "                      precision    recall  f1-score   support\n",
            "\n",
            "         Actualiteit       0.93      0.82      0.87       205\n",
            "              Agenda       0.86      0.97      0.91       696\n",
            "             Besluit       0.97      0.96      0.97       162\n",
            "               Brief       0.90      0.92      0.91       408\n",
            "          Factsheets       0.53      0.41      0.47        41\n",
            "               Motie       0.97      0.97      0.97      1713\n",
            "   Onderzoeksrapport       0.85      0.94      0.89       258\n",
            "          Raadsadres       0.94      0.99      0.96       408\n",
            "        Raadsnotulen       0.98      1.00      0.99        58\n",
            "Schriftelijke Vragen       0.99      0.96      0.97       557\n",
            "       Termijnagenda       0.84      0.46      0.59       189\n",
            "          Voordracht       1.00      1.00      1.00       645\n",
            "\n",
            "            accuracy                           0.94      5340\n",
            "           macro avg       0.90      0.87      0.88      5340\n",
            "        weighted avg       0.94      0.94      0.94      5340\n",
            "\n"
          ]
        }
      ],
      "source": [
        "from sklearn.svm import LinearSVC\n",
        "linear_svm = bf.run_baseline(LinearSVC(), 'LinearSVC' , DATAFRAME, SPLIT_COLUMN, TRAIN_SET, TEST_SET,TEXT_COLUMN, LABEL_COLUMN, PATH, OVERVIEW_PATH)"
      ]
    },
    {
      "cell_type": "code",
      "execution_count": 11,
      "metadata": {},
      "outputs": [
        {
          "data": {
            "text/html": [
              "<div>\n",
              "<style scoped>\n",
              "    .dataframe tbody tr th:only-of-type {\n",
              "        vertical-align: middle;\n",
              "    }\n",
              "\n",
              "    .dataframe tbody tr th {\n",
              "        vertical-align: top;\n",
              "    }\n",
              "\n",
              "    .dataframe thead th {\n",
              "        text-align: right;\n",
              "    }\n",
              "</style>\n",
              "<table border=\"1\" class=\"dataframe\">\n",
              "  <thead>\n",
              "    <tr style=\"text-align: right;\">\n",
              "      <th></th>\n",
              "      <th>model</th>\n",
              "      <th>date</th>\n",
              "      <th>train_set</th>\n",
              "      <th>test_set</th>\n",
              "      <th>train_set_support</th>\n",
              "      <th>test_set_support</th>\n",
              "      <th>split_col</th>\n",
              "      <th>text_col</th>\n",
              "      <th>runtime</th>\n",
              "      <th>accuracy</th>\n",
              "      <th>macro_avg_precision</th>\n",
              "      <th>macro_avg_recall</th>\n",
              "      <th>macro_avg_f1</th>\n",
              "      <th>classification_report</th>\n",
              "    </tr>\n",
              "  </thead>\n",
              "  <tbody>\n",
              "    <tr>\n",
              "      <th>0</th>\n",
              "      <td>LinearSVC</td>\n",
              "      <td>2024-04-18 16:17:03.392004+02:00</td>\n",
              "      <td>train</td>\n",
              "      <td>test</td>\n",
              "      <td>20028</td>\n",
              "      <td>5340</td>\n",
              "      <td>4split</td>\n",
              "      <td>text</td>\n",
              "      <td>32.994138</td>\n",
              "      <td>0.939513</td>\n",
              "      <td>0.897017</td>\n",
              "      <td>0.866095</td>\n",
              "      <td>0.875292</td>\n",
              "      <td>precision    recall  f1-...</td>\n",
              "    </tr>\n",
              "    <tr>\n",
              "      <th>0</th>\n",
              "      <td>LinearSVC</td>\n",
              "      <td>2024-04-18 16:18:02.569115+02:00</td>\n",
              "      <td>train</td>\n",
              "      <td>test</td>\n",
              "      <td>20028</td>\n",
              "      <td>5340</td>\n",
              "      <td>4split</td>\n",
              "      <td>text</td>\n",
              "      <td>33.834955</td>\n",
              "      <td>0.939513</td>\n",
              "      <td>0.897017</td>\n",
              "      <td>0.866095</td>\n",
              "      <td>0.875292</td>\n",
              "      <td>precision    recall  f1-...</td>\n",
              "    </tr>\n",
              "    <tr>\n",
              "      <th>0</th>\n",
              "      <td>MultinomialNB</td>\n",
              "      <td>2024-04-18 16:19:02.979849+02:00</td>\n",
              "      <td>train</td>\n",
              "      <td>test</td>\n",
              "      <td>20028</td>\n",
              "      <td>5340</td>\n",
              "      <td>4split</td>\n",
              "      <td>text</td>\n",
              "      <td>29.710517</td>\n",
              "      <td>0.556180</td>\n",
              "      <td>0.548531</td>\n",
              "      <td>0.249166</td>\n",
              "      <td>0.228989</td>\n",
              "      <td>precision    recall  f1-...</td>\n",
              "    </tr>\n",
              "    <tr>\n",
              "      <th>0</th>\n",
              "      <td>LogisticRegression</td>\n",
              "      <td>2024-04-18 16:21:07.518663+02:00</td>\n",
              "      <td>train</td>\n",
              "      <td>test</td>\n",
              "      <td>20028</td>\n",
              "      <td>5340</td>\n",
              "      <td>4split</td>\n",
              "      <td>text</td>\n",
              "      <td>124.518363</td>\n",
              "      <td>0.935768</td>\n",
              "      <td>0.918087</td>\n",
              "      <td>0.848801</td>\n",
              "      <td>0.871043</td>\n",
              "      <td>precision    recall  f1-...</td>\n",
              "    </tr>\n",
              "    <tr>\n",
              "      <th>0</th>\n",
              "      <td>KNeighborsClassifier</td>\n",
              "      <td>2024-04-18 16:35:37.475188+02:00</td>\n",
              "      <td>train</td>\n",
              "      <td>test</td>\n",
              "      <td>20028</td>\n",
              "      <td>5340</td>\n",
              "      <td>4split</td>\n",
              "      <td>text</td>\n",
              "      <td>869.899391</td>\n",
              "      <td>0.648689</td>\n",
              "      <td>0.635765</td>\n",
              "      <td>0.621493</td>\n",
              "      <td>0.569344</td>\n",
              "      <td>precision    recall  f1-...</td>\n",
              "    </tr>\n",
              "    <tr>\n",
              "      <th>0</th>\n",
              "      <td>LinearSVC</td>\n",
              "      <td>2024-04-22 09:03:24.250889+02:00</td>\n",
              "      <td>train</td>\n",
              "      <td>test</td>\n",
              "      <td>20028</td>\n",
              "      <td>5340</td>\n",
              "      <td>4split</td>\n",
              "      <td>text</td>\n",
              "      <td>32.862975</td>\n",
              "      <td>0.939513</td>\n",
              "      <td>0.897017</td>\n",
              "      <td>0.866095</td>\n",
              "      <td>0.875292</td>\n",
              "      <td>precision    recall  f1-...</td>\n",
              "    </tr>\n",
              "  </tbody>\n",
              "</table>\n",
              "</div>"
            ],
            "text/plain": [
              "                  model                             date train_set test_set  \\\n",
              "0             LinearSVC 2024-04-18 16:17:03.392004+02:00     train     test   \n",
              "0             LinearSVC 2024-04-18 16:18:02.569115+02:00     train     test   \n",
              "0         MultinomialNB 2024-04-18 16:19:02.979849+02:00     train     test   \n",
              "0    LogisticRegression 2024-04-18 16:21:07.518663+02:00     train     test   \n",
              "0  KNeighborsClassifier 2024-04-18 16:35:37.475188+02:00     train     test   \n",
              "0             LinearSVC 2024-04-22 09:03:24.250889+02:00     train     test   \n",
              "\n",
              "   train_set_support  test_set_support split_col text_col     runtime  \\\n",
              "0              20028              5340    4split     text   32.994138   \n",
              "0              20028              5340    4split     text   33.834955   \n",
              "0              20028              5340    4split     text   29.710517   \n",
              "0              20028              5340    4split     text  124.518363   \n",
              "0              20028              5340    4split     text  869.899391   \n",
              "0              20028              5340    4split     text   32.862975   \n",
              "\n",
              "   accuracy  macro_avg_precision  macro_avg_recall  macro_avg_f1  \\\n",
              "0  0.939513             0.897017          0.866095      0.875292   \n",
              "0  0.939513             0.897017          0.866095      0.875292   \n",
              "0  0.556180             0.548531          0.249166      0.228989   \n",
              "0  0.935768             0.918087          0.848801      0.871043   \n",
              "0  0.648689             0.635765          0.621493      0.569344   \n",
              "0  0.939513             0.897017          0.866095      0.875292   \n",
              "\n",
              "                               classification_report  \n",
              "0                        precision    recall  f1-...  \n",
              "0                        precision    recall  f1-...  \n",
              "0                        precision    recall  f1-...  \n",
              "0                        precision    recall  f1-...  \n",
              "0                        precision    recall  f1-...  \n",
              "0                        precision    recall  f1-...  "
            ]
          },
          "metadata": {},
          "output_type": "display_data"
        }
      ],
      "source": [
        "import pandas as pd\n",
        "yeet = pd.read_pickle(OVERVIEW_PATH)\n",
        "display(yeet)"
      ]
    },
    {
      "cell_type": "markdown",
      "metadata": {},
      "source": [
        "##### Baseline 2: Naive Bayes+tf-idf"
      ]
    },
    {
      "cell_type": "code",
      "execution_count": 28,
      "metadata": {},
      "outputs": [
        {
          "name": "stderr",
          "output_type": "stream",
          "text": [
            "/anaconda/envs/azureml_py38_PT_TF/lib/python3.8/site-packages/sklearn/metrics/_classification.py:1344: UndefinedMetricWarning: Precision and F-score are ill-defined and being set to 0.0 in labels with no predicted samples. Use `zero_division` parameter to control this behavior.\n",
            "  _warn_prf(average, modifier, msg_start, len(result))\n",
            "/anaconda/envs/azureml_py38_PT_TF/lib/python3.8/site-packages/sklearn/metrics/_classification.py:1344: UndefinedMetricWarning: Precision and F-score are ill-defined and being set to 0.0 in labels with no predicted samples. Use `zero_division` parameter to control this behavior.\n",
            "  _warn_prf(average, modifier, msg_start, len(result))\n",
            "/anaconda/envs/azureml_py38_PT_TF/lib/python3.8/site-packages/sklearn/metrics/_classification.py:1344: UndefinedMetricWarning: Precision and F-score are ill-defined and being set to 0.0 in labels with no predicted samples. Use `zero_division` parameter to control this behavior.\n",
            "  _warn_prf(average, modifier, msg_start, len(result))\n"
          ]
        },
        {
          "name": "stdout",
          "output_type": "stream",
          "text": [
            "                      precision    recall  f1-score   support\n",
            "\n",
            "         Actualiteit       0.00      0.00      0.00       205\n",
            "              Agenda       0.79      0.92      0.85       696\n",
            "             Besluit       1.00      0.02      0.05       162\n",
            "               Brief       0.00      0.00      0.00       408\n",
            "          Factsheets       0.00      0.00      0.00        41\n",
            "               Motie       0.44      1.00      0.61      1713\n",
            "   Onderzoeksrapport       0.37      0.05      0.09       258\n",
            "          Raadsadres       1.00      0.00      0.01       408\n",
            "        Raadsnotulen       0.00      0.00      0.00        58\n",
            "Schriftelijke Vragen       1.00      0.03      0.06       557\n",
            "       Termijnagenda       1.00      0.08      0.15       189\n",
            "          Voordracht       0.98      0.87      0.92       645\n",
            "\n",
            "            accuracy                           0.56      5340\n",
            "           macro avg       0.55      0.25      0.23      5340\n",
            "        weighted avg       0.63      0.56      0.44      5340\n",
            "\n"
          ]
        },
        {
          "name": "stderr",
          "output_type": "stream",
          "text": [
            "/anaconda/envs/azureml_py38_PT_TF/lib/python3.8/site-packages/sklearn/metrics/_classification.py:1344: UndefinedMetricWarning: Precision is ill-defined and being set to 0.0 in labels with no predicted samples. Use `zero_division` parameter to control this behavior.\n",
            "  _warn_prf(average, modifier, msg_start, len(result))\n"
          ]
        }
      ],
      "source": [
        "from sklearn.naive_bayes import MultinomialNB\n",
        "naive_bayes = bf.run_baseline(MultinomialNB(), 'MultinomialNB' , DATAFRAME, SPLIT_COLUMN, TRAIN_SET, TEST_SET,TEXT_COLUMN, LABEL_COLUMN, PATH, OVERVIEW_PATH)"
      ]
    },
    {
      "cell_type": "markdown",
      "metadata": {},
      "source": [
        "precision, recall and f1-score equal to zero occurs if there are not True Positives. Meaning for those classes not one document is correctly predicted. "
      ]
    },
    {
      "cell_type": "markdown",
      "metadata": {},
      "source": [
        "##### Baseline 3: Logistic Regression + tf-idf"
      ]
    },
    {
      "cell_type": "code",
      "execution_count": 29,
      "metadata": {},
      "outputs": [
        {
          "name": "stderr",
          "output_type": "stream",
          "text": [
            "/anaconda/envs/azureml_py38_PT_TF/lib/python3.8/site-packages/sklearn/linear_model/_logistic.py:458: ConvergenceWarning: lbfgs failed to converge (status=1):\n",
            "STOP: TOTAL NO. of ITERATIONS REACHED LIMIT.\n",
            "\n",
            "Increase the number of iterations (max_iter) or scale the data as shown in:\n",
            "    https://scikit-learn.org/stable/modules/preprocessing.html\n",
            "Please also refer to the documentation for alternative solver options:\n",
            "    https://scikit-learn.org/stable/modules/linear_model.html#logistic-regression\n",
            "  n_iter_i = _check_optimize_result(\n"
          ]
        },
        {
          "name": "stdout",
          "output_type": "stream",
          "text": [
            "                      precision    recall  f1-score   support\n",
            "\n",
            "         Actualiteit       0.97      0.75      0.84       205\n",
            "              Agenda       0.86      0.98      0.92       696\n",
            "             Besluit       0.98      0.91      0.94       162\n",
            "               Brief       0.89      0.91      0.90       408\n",
            "          Factsheets       0.73      0.39      0.51        41\n",
            "               Motie       0.96      0.98      0.97      1713\n",
            "   Onderzoeksrapport       0.85      0.95      0.90       258\n",
            "          Raadsadres       0.91      0.97      0.94       408\n",
            "        Raadsnotulen       0.98      0.95      0.96        58\n",
            "Schriftelijke Vragen       0.98      0.96      0.97       557\n",
            "       Termijnagenda       0.91      0.46      0.61       189\n",
            "          Voordracht       0.99      1.00      0.99       645\n",
            "\n",
            "            accuracy                           0.94      5340\n",
            "           macro avg       0.92      0.85      0.87      5340\n",
            "        weighted avg       0.94      0.94      0.93      5340\n",
            "\n"
          ]
        }
      ],
      "source": [
        "from sklearn.linear_model import LogisticRegression\n",
        "log_reg = bf.run_baseline(LogisticRegression(), 'LogisticRegression' , DATAFRAME, SPLIT_COLUMN, TRAIN_SET, TEST_SET,TEXT_COLUMN, LABEL_COLUMN, PATH, OVERVIEW_PATH)"
      ]
    },
    {
      "cell_type": "markdown",
      "metadata": {},
      "source": [
        "##### Baseline 4: k Nearest Neigbors + tf-idf"
      ]
    },
    {
      "cell_type": "code",
      "execution_count": 30,
      "metadata": {},
      "outputs": [
        {
          "name": "stdout",
          "output_type": "stream",
          "text": [
            "                      precision    recall  f1-score   support\n",
            "\n",
            "         Actualiteit       0.62      0.39      0.47       205\n",
            "              Agenda       0.74      0.95      0.83       696\n",
            "             Besluit       0.74      0.86      0.80       162\n",
            "               Brief       0.40      0.58      0.47       408\n",
            "          Factsheets       0.64      0.39      0.48        41\n",
            "               Motie       0.86      0.66      0.74      1713\n",
            "   Onderzoeksrapport       0.25      0.67      0.36       258\n",
            "          Raadsadres       0.85      0.26      0.40       408\n",
            "        Raadsnotulen       0.17      0.98      0.30        58\n",
            "Schriftelijke Vragen       0.72      0.44      0.55       557\n",
            "       Termijnagenda       0.74      0.44      0.55       189\n",
            "          Voordracht       0.89      0.84      0.87       645\n",
            "\n",
            "            accuracy                           0.65      5340\n",
            "           macro avg       0.64      0.62      0.57      5340\n",
            "        weighted avg       0.74      0.65      0.66      5340\n",
            "\n"
          ]
        }
      ],
      "source": [
        "from sklearn.neighbors import KNeighborsClassifier\n",
        "knn = bf.run_baseline(KNeighborsClassifier(), 'KNeighborsClassifier' , DATAFRAME, SPLIT_COLUMN, TRAIN_SET, TEST_SET,TEXT_COLUMN, LABEL_COLUMN, PATH, OVERVIEW_PATH)"
      ]
    },
    {
      "cell_type": "markdown",
      "metadata": {},
      "source": [
        "##### Baseline 5: RandomForest + tf-idf"
      ]
    },
    {
      "cell_type": "code",
      "execution_count": 13,
      "metadata": {},
      "outputs": [
        {
          "name": "stdout",
          "output_type": "stream",
          "text": [
            "                      precision    recall  f1-score   support\n",
            "\n",
            "         Actualiteit       0.92      0.71      0.80       205\n",
            "              Agenda       0.85      0.89      0.87       696\n",
            "             Besluit       0.98      0.89      0.93       162\n",
            "               Brief       0.90      0.90      0.90       408\n",
            "          Factsheets       0.48      0.32      0.38        41\n",
            "               Motie       0.96      0.97      0.96      1713\n",
            "   Onderzoeksrapport       0.84      0.90      0.87       258\n",
            "          Raadsadres       0.85      0.95      0.90       408\n",
            "        Raadsnotulen       1.00      0.95      0.97        58\n",
            "Schriftelijke Vragen       0.98      0.94      0.96       557\n",
            "       Termijnagenda       0.55      0.46      0.50       189\n",
            "          Voordracht       0.98      0.99      0.99       645\n",
            "\n",
            "            accuracy                           0.91      5340\n",
            "           macro avg       0.86      0.82      0.84      5340\n",
            "        weighted avg       0.91      0.91      0.91      5340\n",
            "\n"
          ]
        }
      ],
      "source": [
        "from sklearn.ensemble import RandomForestClassifier\n",
        "random_forest = bf.run_baseline(RandomForestClassifier(), 'RandomForestClassifier' , DATAFRAME, SPLIT_COLUMN, TRAIN_SET, TEST_SET,TEXT_COLUMN, LABEL_COLUMN, PATH, OVERVIEW_PATH)"
      ]
    },
    {
      "cell_type": "markdown",
      "metadata": {},
      "source": [
        "### Overview of all runs"
      ]
    },
    {
      "cell_type": "code",
      "execution_count": null,
      "metadata": {},
      "outputs": [],
      "source": [
        "overview = pd.read_pickle(OVERVIEW_PATH)\n",
        "display(overview)"
      ]
    }
  ],
  "metadata": {
    "kernel_info": {
      "name": "python38-azureml"
    },
    "kernelspec": {
      "display_name": "AmsterdamInContextLearning",
      "language": "python",
      "name": "amsterdamincontextlearning"
    },
    "language_info": {
      "codemirror_mode": {
        "name": "ipython",
        "version": 3
      },
      "file_extension": ".py",
      "mimetype": "text/x-python",
      "name": "python",
      "nbconvert_exporter": "python",
      "pygments_lexer": "ipython3",
      "version": "3.9.19"
    },
    "microsoft": {
      "ms_spell_check": {
        "ms_spell_check_language": "en"
      }
    },
    "nteract": {
      "version": "nteract-front-end@1.0.0"
    }
  },
  "nbformat": 4,
  "nbformat_minor": 2
}
