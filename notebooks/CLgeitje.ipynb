{
 "cells": [
  {
   "cell_type": "code",
   "execution_count": 1,
   "metadata": {},
   "outputs": [],
   "source": [
    "!bash /home/azureuser/cloudfiles/code/blobfuse/blobfuse_raadsinformatie.sh"
   ]
  },
  {
   "cell_type": "code",
   "execution_count": 4,
   "metadata": {},
   "outputs": [],
   "source": [
    "import sys\n",
    "sys.path.append(\"..\")\n",
    "\n",
    "# Select where to run notebook: \"azure\" or \"local\"\n",
    "my_run = \"azure\"\n",
    "\n",
    "import my_secrets as sc\n",
    "import settings as st\n",
    "\n",
    "if my_run == \"azure\":\n",
    "    import config_azure as cf\n",
    "elif my_run == \"local\":\n",
    "    import config as cf"
   ]
  },
  {
   "cell_type": "markdown",
   "metadata": {},
   "source": [
    "- Load data - just first 2 docs of training set\n",
    "- text truncation\n",
    "- load file with prompts\n"
   ]
  },
  {
   "cell_type": "code",
   "execution_count": 5,
   "metadata": {},
   "outputs": [],
   "source": [
    "def text_truncation(tokens_list, maximum=500):\n",
    "    selected_tokens = tokens_list[:maximum]  # Select the first 300 tokens\n",
    "    return ' '.join(selected_tokens)  # Convert the list back to text"
   ]
  },
  {
   "cell_type": "code",
   "execution_count": 6,
   "metadata": {},
   "outputs": [
    {
     "name": "stdout",
     "output_type": "stream",
     "text": [
      "['Termijnagenda', 'Factsheets', 'Agenda', 'Besluit', 'Schriftelijke Vragen', 'Raadsadres', 'Motie', 'Actualiteit', 'Onderzoeksrapport', 'Raadsnotulen', 'Brief', 'Voordracht']\n"
     ]
    },
    {
     "data": {
      "text/html": [
       "<div>\n",
       "<style scoped>\n",
       "    .dataframe tbody tr th:only-of-type {\n",
       "        vertical-align: middle;\n",
       "    }\n",
       "\n",
       "    .dataframe tbody tr th {\n",
       "        vertical-align: top;\n",
       "    }\n",
       "\n",
       "    .dataframe thead th {\n",
       "        text-align: right;\n",
       "    }\n",
       "</style>\n",
       "<table border=\"1\" class=\"dataframe\">\n",
       "  <thead>\n",
       "    <tr style=\"text-align: right;\">\n",
       "      <th></th>\n",
       "      <th>label</th>\n",
       "      <th>path</th>\n",
       "      <th>id</th>\n",
       "      <th>set</th>\n",
       "      <th>text</th>\n",
       "      <th>tokens</th>\n",
       "      <th>token_count</th>\n",
       "      <th>clean_tokens</th>\n",
       "      <th>clean_tokens_count</th>\n",
       "      <th>pdf_path</th>\n",
       "      <th>num_pages</th>\n",
       "      <th>clean_text</th>\n",
       "      <th>text_trunc</th>\n",
       "    </tr>\n",
       "  </thead>\n",
       "  <tbody>\n",
       "    <tr>\n",
       "      <th>0</th>\n",
       "      <td>Motie</td>\n",
       "      <td>/home/azureuser/cloudfiles/code/blobfuse/raads...</td>\n",
       "      <td>0</td>\n",
       "      <td>train</td>\n",
       "      <td>Gemeente Amsterdam\\n% Gemeenteraad R\\n% Gemeen...</td>\n",
       "      <td>[Gemeente, Amsterdam, %, Gemeenteraad, R, %, G...</td>\n",
       "      <td>395</td>\n",
       "      <td>[Gemeente, Amsterdam, Gemeenteraad, Gemeentebl...</td>\n",
       "      <td>205</td>\n",
       "      <td>/home/azureuser/cloudfiles/code/blobfuse/raads...</td>\n",
       "      <td>2.0</td>\n",
       "      <td>Gemeente Amsterdam Gemeenteraad Gemeenteblad M...</td>\n",
       "      <td>Gemeente Amsterdam % Gemeenteraad R % Gemeente...</td>\n",
       "    </tr>\n",
       "    <tr>\n",
       "      <th>1</th>\n",
       "      <td>Motie</td>\n",
       "      <td>/home/azureuser/cloudfiles/code/blobfuse/raads...</td>\n",
       "      <td>1</td>\n",
       "      <td>train</td>\n",
       "      <td>Gemeente Amsterdam\\n\\n% Gemeenteraad R\\n\\n% Ge...</td>\n",
       "      <td>[Gemeente, Amsterdam, %, Gemeenteraad, R, %, G...</td>\n",
       "      <td>390</td>\n",
       "      <td>[Gemeente, Amsterdam, Gemeenteraad, Gemeentebl...</td>\n",
       "      <td>197</td>\n",
       "      <td>/home/azureuser/cloudfiles/code/blobfuse/raads...</td>\n",
       "      <td>2.0</td>\n",
       "      <td>Gemeente Amsterdam Gemeenteraad Gemeenteblad M...</td>\n",
       "      <td>Gemeente Amsterdam % Gemeenteraad R % Gemeente...</td>\n",
       "    </tr>\n",
       "  </tbody>\n",
       "</table>\n",
       "</div>"
      ],
      "text/plain": [
       "   label                                               path  id    set  \\\n",
       "0  Motie  /home/azureuser/cloudfiles/code/blobfuse/raads...   0  train   \n",
       "1  Motie  /home/azureuser/cloudfiles/code/blobfuse/raads...   1  train   \n",
       "\n",
       "                                                text  \\\n",
       "0  Gemeente Amsterdam\\n% Gemeenteraad R\\n% Gemeen...   \n",
       "1  Gemeente Amsterdam\\n\\n% Gemeenteraad R\\n\\n% Ge...   \n",
       "\n",
       "                                              tokens  token_count  \\\n",
       "0  [Gemeente, Amsterdam, %, Gemeenteraad, R, %, G...          395   \n",
       "1  [Gemeente, Amsterdam, %, Gemeenteraad, R, %, G...          390   \n",
       "\n",
       "                                        clean_tokens  clean_tokens_count  \\\n",
       "0  [Gemeente, Amsterdam, Gemeenteraad, Gemeentebl...                 205   \n",
       "1  [Gemeente, Amsterdam, Gemeenteraad, Gemeentebl...                 197   \n",
       "\n",
       "                                            pdf_path  num_pages  \\\n",
       "0  /home/azureuser/cloudfiles/code/blobfuse/raads...        2.0   \n",
       "1  /home/azureuser/cloudfiles/code/blobfuse/raads...        2.0   \n",
       "\n",
       "                                          clean_text  \\\n",
       "0  Gemeente Amsterdam Gemeenteraad Gemeenteblad M...   \n",
       "1  Gemeente Amsterdam Gemeenteraad Gemeenteblad M...   \n",
       "\n",
       "                                          text_trunc  \n",
       "0  Gemeente Amsterdam % Gemeenteraad R % Gemeente...  \n",
       "1  Gemeente Amsterdam % Gemeenteraad R % Gemeente...  "
      ]
     },
     "metadata": {},
     "output_type": "display_data"
    }
   ],
   "source": [
    "import pandas as pd\n",
    "df = pd.read_pickle(f\"{cf.output_path}/txtfiles.pkl\")\n",
    "print(list(set(df['label'])))\n",
    "df = df.loc[df['set']=='train'].head(2)\n",
    "df['text_trunc'] = df['tokens'].apply(text_truncation)\n",
    "display(df)\n",
    "\n",
    "import sys\n",
    "sys.path.append('../scripts/') \n",
    "import prompt_template as pt\n"
   ]
  },
  {
   "cell_type": "markdown",
   "metadata": {},
   "source": [
    "#### Tryout GEITje\n",
    "Load chatbot"
   ]
  },
  {
   "cell_type": "code",
   "execution_count": 7,
   "metadata": {},
   "outputs": [
    {
     "name": "stderr",
     "output_type": "stream",
     "text": [
      "2024-04-02 14:17:46.626782: W tensorflow/stream_executor/platform/default/dso_loader.cc:64] Could not load dynamic library 'libcudart.so.11.0'; dlerror: libcudart.so.11.0: cannot open shared object file: No such file or directory\n",
      "2024-04-02 14:17:46.626818: I tensorflow/stream_executor/cuda/cudart_stub.cc:29] Ignore above cudart dlerror if you do not have a GPU set up on your machine.\n"
     ]
    },
    {
     "data": {
      "application/vnd.jupyter.widget-view+json": {
       "model_id": "03bf29e27a0741caacbf05c78cd7a2b5",
       "version_major": 2,
       "version_minor": 0
      },
      "text/plain": [
       "Loading checkpoint shards:   0%|          | 0/3 [00:00<?, ?it/s]"
      ]
     },
     "metadata": {},
     "output_type": "display_data"
    },
    {
     "name": "stderr",
     "output_type": "stream",
     "text": [
      "WARNING:root:Some parameters are on the meta device device because they were offloaded to the cpu.\n"
     ]
    }
   ],
   "source": [
    "from transformers import pipeline, Conversation\n",
    "\n",
    "chatbot = pipeline(task='conversational', model='Rijgersberg/GEITje-7B-chat-v2',\n",
    "                   device_map='auto')"
   ]
  },
  {
   "cell_type": "markdown",
   "metadata": {},
   "source": [
    "Simple query"
   ]
  },
  {
   "cell_type": "code",
   "execution_count": null,
   "metadata": {},
   "outputs": [
    {
     "name": "stderr",
     "output_type": "stream",
     "text": [
      "The attention mask and the pad token id were not set. As a consequence, you may observe unexpected behavior. Please pass your input's `attention_mask` to obtain reliable results.\n",
      "Setting `pad_token_id` to `eos_token_id`:2 for open-end generation.\n"
     ]
    },
    {
     "name": "stdout",
     "output_type": "stream",
     "text": [
      "Conversation id: c7f94172-c476-4fc4-a1cf-27485289b9d1\n",
      "user: Welk woord hoort er niet in dit rijtje thuis: \"auto, vliegtuig, geitje, bus\"?\n",
      "assistant: Geitje hoort er niet in thuis.\n",
      "\n"
     ]
    }
   ],
   "source": [
    "print(chatbot(\n",
    "    Conversation('Welk woord hoort er niet in dit rijtje thuis: \"auto, vliegtuig, geitje, bus\"?')\n",
    "))"
   ]
  },
  {
   "cell_type": "markdown",
   "metadata": {},
   "source": [
    "### Experiment set-up\n",
    "Prompt GEITje for each document and save the prediction, return response, response time and the prompt version"
   ]
  },
  {
   "cell_type": "code",
   "execution_count": 19,
   "metadata": {},
   "outputs": [],
   "source": [
    "from collections import Counter\n",
    "def get_prediction_from_response(response, classes_list):\n",
    "    print(response)\n",
    "    predictions = [True if category.lower() in response.lower() else False for category in classes_list]\n",
    "    if Counter(predictions)[True] > 1:\n",
    "        return \"PredictionError\"\n",
    "    elif Counter(predictions)[True] == 1:\n",
    "        prediction = [category.lower() for category in classes_list if category.lower() in response.lower()]\n",
    "        return prediction[0]\n",
    "    else:\n",
    "        return 'NoPrediction'\n",
    "        "
   ]
  },
  {
   "cell_type": "code",
   "execution_count": 22,
   "metadata": {},
   "outputs": [
    {
     "name": "stderr",
     "output_type": "stream",
     "text": [
      "The attention mask and the pad token id were not set. As a consequence, you may observe unexpected behavior. Please pass your input's `attention_mask` to obtain reliable results.\n",
      "Setting `pad_token_id` to `eos_token_id`:2 for open-end generation.\n",
      "The attention mask and the pad token id were not set. As a consequence, you may observe unexpected behavior. Please pass your input's `attention_mask` to obtain reliable results.\n",
      "Setting `pad_token_id` to `eos_token_id`:2 for open-end generation.\n"
     ]
    },
    {
     "name": "stdout",
     "output_type": "stream",
     "text": [
      "Brief\n",
      "Voordracht\n"
     ]
    },
    {
     "data": {
      "text/html": [
       "<div>\n",
       "<style scoped>\n",
       "    .dataframe tbody tr th:only-of-type {\n",
       "        vertical-align: middle;\n",
       "    }\n",
       "\n",
       "    .dataframe tbody tr th {\n",
       "        vertical-align: top;\n",
       "    }\n",
       "\n",
       "    .dataframe thead th {\n",
       "        text-align: right;\n",
       "    }\n",
       "</style>\n",
       "<table border=\"1\" class=\"dataframe\">\n",
       "  <thead>\n",
       "    <tr style=\"text-align: right;\">\n",
       "      <th></th>\n",
       "      <th>id</th>\n",
       "      <th>path</th>\n",
       "      <th>text_column</th>\n",
       "      <th>prompt_function</th>\n",
       "      <th>response</th>\n",
       "      <th>prediction</th>\n",
       "      <th>label</th>\n",
       "    </tr>\n",
       "  </thead>\n",
       "  <tbody>\n",
       "    <tr>\n",
       "      <th>0</th>\n",
       "      <td>0</td>\n",
       "      <td>/home/azureuser/cloudfiles/code/blobfuse/raads...</td>\n",
       "      <td>text_trunc</td>\n",
       "      <td>simple_prompt</td>\n",
       "      <td>Brief</td>\n",
       "      <td>brief</td>\n",
       "      <td>motie</td>\n",
       "    </tr>\n",
       "    <tr>\n",
       "      <th>1</th>\n",
       "      <td>1</td>\n",
       "      <td>/home/azureuser/cloudfiles/code/blobfuse/raads...</td>\n",
       "      <td>text_trunc</td>\n",
       "      <td>simple_prompt</td>\n",
       "      <td>Voordracht</td>\n",
       "      <td>voordracht</td>\n",
       "      <td>motie</td>\n",
       "    </tr>\n",
       "  </tbody>\n",
       "</table>\n",
       "</div>"
      ],
      "text/plain": [
       "   id                                               path text_column  \\\n",
       "0   0  /home/azureuser/cloudfiles/code/blobfuse/raads...  text_trunc   \n",
       "1   1  /home/azureuser/cloudfiles/code/blobfuse/raads...  text_trunc   \n",
       "\n",
       "  prompt_function    response  prediction  label  \n",
       "0   simple_prompt       Brief       brief  motie  \n",
       "1   simple_prompt  Voordracht  voordracht  motie  "
      ]
     },
     "metadata": {},
     "output_type": "display_data"
    }
   ],
   "source": [
    "\"\"\" Given a dataframe with txt, return a df with predictions \"\"\"\n",
    "# docs_df = dataframe with the documents that need to be predicted\n",
    "# text_column = name of the column that includes the input_text. Can be different based on the text representation method. \n",
    "\n",
    "def get_predictions_incontectlearning(docs_df, text_column):\n",
    "    classes_list = pt.get_class_list()\n",
    "\n",
    "    results_df = pd.DataFrame(columns = ['id', 'path', 'text_column', 'prompt_function', 'response', 'prediction', 'label'])\n",
    "    \n",
    "    # for each doc, prompt\n",
    "    for index, row in docs_df.iterrows():\n",
    "        txt = row[text_column]\n",
    "        prompt = pt.simple_prompt(classes_list, txt)\n",
    "        converse = chatbot(Conversation(prompt))\n",
    "        response = converse[1]['content']\n",
    "        prediction = get_prediction_from_response(response, classes_list)\n",
    "        results_df.loc[len(results_df)] = {\n",
    "            'id': row['id'],\n",
    "            'path' : row['path'],\n",
    "            'text_column' : text_column,\n",
    "            'prompt_function':'simple_prompt',\n",
    "            'response':response,\n",
    "            'prediction':prediction,\n",
    "            'label':row['label'].lower()\n",
    "        }\n",
    "\n",
    "\n",
    "    return results_df\n",
    "\n",
    "res = get_predictions_incontectlearning(df, 'text_trunc')\n",
    "display(res)\n"
   ]
  },
  {
   "cell_type": "markdown",
   "metadata": {},
   "source": []
  }
 ],
 "metadata": {
  "kernelspec": {
   "display_name": "ThesisAmsterdamEnvironment19",
   "language": "python",
   "name": "thesisamsterdamenvironment19"
  },
  "language_info": {
   "codemirror_mode": {
    "name": "ipython",
    "version": 3
   },
   "file_extension": ".py",
   "mimetype": "text/x-python",
   "name": "python",
   "nbconvert_exporter": "python",
   "pygments_lexer": "ipython3",
   "version": "3.9.18"
  }
 },
 "nbformat": 4,
 "nbformat_minor": 2
}
